{
  "cells": [
    {
      "cell_type": "markdown",
      "metadata": {
        "id": "view-in-github",
        "colab_type": "text"
      },
      "source": [
        "<a href=\"https://colab.research.google.com/github/bijumanvya/Indix/blob/master/Codeblocks_with_results_jupyter.ipynb\" target=\"_parent\"><img src=\"https://colab.research.google.com/assets/colab-badge.svg\" alt=\"Open In Colab\"/></a>"
      ]
    },
    {
      "cell_type": "markdown",
      "id": "1227689a-91ca-48ce-974f-4911511c0773",
      "metadata": {
        "id": "1227689a-91ca-48ce-974f-4911511c0773"
      },
      "source": [
        "Discretization (Binning)\n",
        "Goal:- Convert continuous age into categories like “Young”, “Mid-age”, “Senior”."
      ]
    },
    {
      "cell_type": "markdown",
      "id": "5eddf2a3-5708-41d0-93a6-9305d6893f7e",
      "metadata": {
        "id": "5eddf2a3-5708-41d0-93a6-9305d6893f7e"
      },
      "source": [
        "Cell 1: Import Libraries and Setup"
      ]
    },
    {
      "cell_type": "code",
      "source": [
        "import pandas as pd\n",
        "from google.colab import drive\n",
        "drive.mount('/content/drive')\n",
        "filePath='/content/drive/MyDrive/BITS PILANI/bank-full.csv'\n"
      ],
      "metadata": {
        "colab": {
          "base_uri": "https://localhost:8080/"
        },
        "id": "ftOjzYwZ1Fs5",
        "outputId": "f764af44-ac2a-4e16-ae3e-9a2475697d6d"
      },
      "id": "ftOjzYwZ1Fs5",
      "execution_count": 3,
      "outputs": [
        {
          "output_type": "stream",
          "name": "stdout",
          "text": [
            "Drive already mounted at /content/drive; to attempt to forcibly remount, call drive.mount(\"/content/drive\", force_remount=True).\n"
          ]
        }
      ]
    },
    {
      "cell_type": "code",
      "source": [
        "df_bank=pd.read_csv(filePath,sep=';')"
      ],
      "metadata": {
        "id": "8NT9QOdc1g8a"
      },
      "id": "8NT9QOdc1g8a",
      "execution_count": 10,
      "outputs": []
    },
    {
      "cell_type": "code",
      "execution_count": 1,
      "id": "fffc97ac-8ef5-4d33-ba0f-f6efe3ea572b",
      "metadata": {
        "id": "fffc97ac-8ef5-4d33-ba0f-f6efe3ea572b"
      },
      "outputs": [],
      "source": [
        "# STEP 1: Import the required Python libraries\n",
        "\n",
        "\n",
        "import matplotlib.pyplot as plt        # For visualizations\n",
        "import seaborn as sns                  # For advanced plotting\n",
        "import warnings                        # To suppress warnings (for cleaner output)\n",
        "\n",
        "# FutureWarning is a harmless warning from Seaborn. Let's suppress it.\n",
        "warnings.simplefilter(action='ignore', category=FutureWarning)\n"
      ]
    },
    {
      "cell_type": "markdown",
      "id": "cfc7ebcf-1b7c-4921-b7e6-3bc8b857ce1c",
      "metadata": {
        "id": "cfc7ebcf-1b7c-4921-b7e6-3bc8b857ce1c"
      },
      "source": [
        "Cell 2: Load the Dataset"
      ]
    },
    {
      "cell_type": "markdown",
      "source": [
        "Bank Datset Overview\n",
        "Bank Marketing Dataset – Brief Overview\n",
        "Source: Portuguese retail bank.\n",
        "\n",
        "\n",
        "Columns: 17\n",
        "\n",
        "Goal: Predict whether a client will subscribe to a term deposit (y = yes/no).\n",
        "\n",
        "Key Features in the Dataset\n",
        "Client Info\n",
        "age: Customer’s age\n",
        "\n",
        "job, marital, education: Socio-demographic variables\n",
        "\n",
        "default: Credit default\n",
        "\n",
        "balance: Average yearly account balance\n",
        "\n",
        "housing, loan: Has housing/personal loan?\n",
        "\n",
        "Campaign Interaction\n",
        "contact: Contact communication type (e.g., cellular, telephone)\n",
        "\n",
        "day, month: Date of last contact\n",
        "\n",
        "duration: Call duration in seconds\n",
        "\n",
        "Campaign History\n",
        "campaign: Number of contacts during this campaign\n",
        "\n",
        "pdays: Days since last contact from a previous campaign (-1 means never contacted)\n",
        "\n",
        "previous: Number of contacts in previous campaigns\n",
        "\n",
        "poutcome: Outcome of the previous marketing campaign\n",
        "\n",
        "Target Variable\n",
        "y: Whether the client subscribed to a term deposit"
      ],
      "metadata": {
        "id": "WpvvzBnM1gpE"
      },
      "id": "WpvvzBnM1gpE"
    },
    {
      "cell_type": "code",
      "source": [
        "# Let's look at the first 5 rows to understand the structure\n",
        "df_bank.head()"
      ],
      "metadata": {
        "colab": {
          "base_uri": "https://localhost:8080/",
          "height": 206
        },
        "id": "2rZOVYxU1qIy",
        "outputId": "47e56bc6-4b4a-43bc-bfec-67e0b4a50dd3"
      },
      "id": "2rZOVYxU1qIy",
      "execution_count": 12,
      "outputs": [
        {
          "output_type": "execute_result",
          "data": {
            "text/plain": [
              "   age           job  marital  education default  balance housing loan  \\\n",
              "0   58    management  married   tertiary      no     2143     yes   no   \n",
              "1   44    technician   single  secondary      no       29     yes   no   \n",
              "2   33  entrepreneur  married  secondary      no        2     yes  yes   \n",
              "3   47   blue-collar  married    unknown      no     1506     yes   no   \n",
              "4   33       unknown   single    unknown      no        1      no   no   \n",
              "\n",
              "   contact  day month  duration  campaign  pdays  previous poutcome   y  \n",
              "0  unknown    5   may       261         1     -1         0  unknown  no  \n",
              "1  unknown    5   may       151         1     -1         0  unknown  no  \n",
              "2  unknown    5   may        76         1     -1         0  unknown  no  \n",
              "3  unknown    5   may        92         1     -1         0  unknown  no  \n",
              "4  unknown    5   may       198         1     -1         0  unknown  no  "
            ],
            "text/html": [
              "\n",
              "  <div id=\"df-c74c45ff-529f-401b-aad0-3a8a63879e14\" class=\"colab-df-container\">\n",
              "    <div>\n",
              "<style scoped>\n",
              "    .dataframe tbody tr th:only-of-type {\n",
              "        vertical-align: middle;\n",
              "    }\n",
              "\n",
              "    .dataframe tbody tr th {\n",
              "        vertical-align: top;\n",
              "    }\n",
              "\n",
              "    .dataframe thead th {\n",
              "        text-align: right;\n",
              "    }\n",
              "</style>\n",
              "<table border=\"1\" class=\"dataframe\">\n",
              "  <thead>\n",
              "    <tr style=\"text-align: right;\">\n",
              "      <th></th>\n",
              "      <th>age</th>\n",
              "      <th>job</th>\n",
              "      <th>marital</th>\n",
              "      <th>education</th>\n",
              "      <th>default</th>\n",
              "      <th>balance</th>\n",
              "      <th>housing</th>\n",
              "      <th>loan</th>\n",
              "      <th>contact</th>\n",
              "      <th>day</th>\n",
              "      <th>month</th>\n",
              "      <th>duration</th>\n",
              "      <th>campaign</th>\n",
              "      <th>pdays</th>\n",
              "      <th>previous</th>\n",
              "      <th>poutcome</th>\n",
              "      <th>y</th>\n",
              "    </tr>\n",
              "  </thead>\n",
              "  <tbody>\n",
              "    <tr>\n",
              "      <th>0</th>\n",
              "      <td>58</td>\n",
              "      <td>management</td>\n",
              "      <td>married</td>\n",
              "      <td>tertiary</td>\n",
              "      <td>no</td>\n",
              "      <td>2143</td>\n",
              "      <td>yes</td>\n",
              "      <td>no</td>\n",
              "      <td>unknown</td>\n",
              "      <td>5</td>\n",
              "      <td>may</td>\n",
              "      <td>261</td>\n",
              "      <td>1</td>\n",
              "      <td>-1</td>\n",
              "      <td>0</td>\n",
              "      <td>unknown</td>\n",
              "      <td>no</td>\n",
              "    </tr>\n",
              "    <tr>\n",
              "      <th>1</th>\n",
              "      <td>44</td>\n",
              "      <td>technician</td>\n",
              "      <td>single</td>\n",
              "      <td>secondary</td>\n",
              "      <td>no</td>\n",
              "      <td>29</td>\n",
              "      <td>yes</td>\n",
              "      <td>no</td>\n",
              "      <td>unknown</td>\n",
              "      <td>5</td>\n",
              "      <td>may</td>\n",
              "      <td>151</td>\n",
              "      <td>1</td>\n",
              "      <td>-1</td>\n",
              "      <td>0</td>\n",
              "      <td>unknown</td>\n",
              "      <td>no</td>\n",
              "    </tr>\n",
              "    <tr>\n",
              "      <th>2</th>\n",
              "      <td>33</td>\n",
              "      <td>entrepreneur</td>\n",
              "      <td>married</td>\n",
              "      <td>secondary</td>\n",
              "      <td>no</td>\n",
              "      <td>2</td>\n",
              "      <td>yes</td>\n",
              "      <td>yes</td>\n",
              "      <td>unknown</td>\n",
              "      <td>5</td>\n",
              "      <td>may</td>\n",
              "      <td>76</td>\n",
              "      <td>1</td>\n",
              "      <td>-1</td>\n",
              "      <td>0</td>\n",
              "      <td>unknown</td>\n",
              "      <td>no</td>\n",
              "    </tr>\n",
              "    <tr>\n",
              "      <th>3</th>\n",
              "      <td>47</td>\n",
              "      <td>blue-collar</td>\n",
              "      <td>married</td>\n",
              "      <td>unknown</td>\n",
              "      <td>no</td>\n",
              "      <td>1506</td>\n",
              "      <td>yes</td>\n",
              "      <td>no</td>\n",
              "      <td>unknown</td>\n",
              "      <td>5</td>\n",
              "      <td>may</td>\n",
              "      <td>92</td>\n",
              "      <td>1</td>\n",
              "      <td>-1</td>\n",
              "      <td>0</td>\n",
              "      <td>unknown</td>\n",
              "      <td>no</td>\n",
              "    </tr>\n",
              "    <tr>\n",
              "      <th>4</th>\n",
              "      <td>33</td>\n",
              "      <td>unknown</td>\n",
              "      <td>single</td>\n",
              "      <td>unknown</td>\n",
              "      <td>no</td>\n",
              "      <td>1</td>\n",
              "      <td>no</td>\n",
              "      <td>no</td>\n",
              "      <td>unknown</td>\n",
              "      <td>5</td>\n",
              "      <td>may</td>\n",
              "      <td>198</td>\n",
              "      <td>1</td>\n",
              "      <td>-1</td>\n",
              "      <td>0</td>\n",
              "      <td>unknown</td>\n",
              "      <td>no</td>\n",
              "    </tr>\n",
              "  </tbody>\n",
              "</table>\n",
              "</div>\n",
              "    <div class=\"colab-df-buttons\">\n",
              "\n",
              "  <div class=\"colab-df-container\">\n",
              "    <button class=\"colab-df-convert\" onclick=\"convertToInteractive('df-c74c45ff-529f-401b-aad0-3a8a63879e14')\"\n",
              "            title=\"Convert this dataframe to an interactive table.\"\n",
              "            style=\"display:none;\">\n",
              "\n",
              "  <svg xmlns=\"http://www.w3.org/2000/svg\" height=\"24px\" viewBox=\"0 -960 960 960\">\n",
              "    <path d=\"M120-120v-720h720v720H120Zm60-500h600v-160H180v160Zm220 220h160v-160H400v160Zm0 220h160v-160H400v160ZM180-400h160v-160H180v160Zm440 0h160v-160H620v160ZM180-180h160v-160H180v160Zm440 0h160v-160H620v160Z\"/>\n",
              "  </svg>\n",
              "    </button>\n",
              "\n",
              "  <style>\n",
              "    .colab-df-container {\n",
              "      display:flex;\n",
              "      gap: 12px;\n",
              "    }\n",
              "\n",
              "    .colab-df-convert {\n",
              "      background-color: #E8F0FE;\n",
              "      border: none;\n",
              "      border-radius: 50%;\n",
              "      cursor: pointer;\n",
              "      display: none;\n",
              "      fill: #1967D2;\n",
              "      height: 32px;\n",
              "      padding: 0 0 0 0;\n",
              "      width: 32px;\n",
              "    }\n",
              "\n",
              "    .colab-df-convert:hover {\n",
              "      background-color: #E2EBFA;\n",
              "      box-shadow: 0px 1px 2px rgba(60, 64, 67, 0.3), 0px 1px 3px 1px rgba(60, 64, 67, 0.15);\n",
              "      fill: #174EA6;\n",
              "    }\n",
              "\n",
              "    .colab-df-buttons div {\n",
              "      margin-bottom: 4px;\n",
              "    }\n",
              "\n",
              "    [theme=dark] .colab-df-convert {\n",
              "      background-color: #3B4455;\n",
              "      fill: #D2E3FC;\n",
              "    }\n",
              "\n",
              "    [theme=dark] .colab-df-convert:hover {\n",
              "      background-color: #434B5C;\n",
              "      box-shadow: 0px 1px 3px 1px rgba(0, 0, 0, 0.15);\n",
              "      filter: drop-shadow(0px 1px 2px rgba(0, 0, 0, 0.3));\n",
              "      fill: #FFFFFF;\n",
              "    }\n",
              "  </style>\n",
              "\n",
              "    <script>\n",
              "      const buttonEl =\n",
              "        document.querySelector('#df-c74c45ff-529f-401b-aad0-3a8a63879e14 button.colab-df-convert');\n",
              "      buttonEl.style.display =\n",
              "        google.colab.kernel.accessAllowed ? 'block' : 'none';\n",
              "\n",
              "      async function convertToInteractive(key) {\n",
              "        const element = document.querySelector('#df-c74c45ff-529f-401b-aad0-3a8a63879e14');\n",
              "        const dataTable =\n",
              "          await google.colab.kernel.invokeFunction('convertToInteractive',\n",
              "                                                    [key], {});\n",
              "        if (!dataTable) return;\n",
              "\n",
              "        const docLinkHtml = 'Like what you see? Visit the ' +\n",
              "          '<a target=\"_blank\" href=https://colab.research.google.com/notebooks/data_table.ipynb>data table notebook</a>'\n",
              "          + ' to learn more about interactive tables.';\n",
              "        element.innerHTML = '';\n",
              "        dataTable['output_type'] = 'display_data';\n",
              "        await google.colab.output.renderOutput(dataTable, element);\n",
              "        const docLink = document.createElement('div');\n",
              "        docLink.innerHTML = docLinkHtml;\n",
              "        element.appendChild(docLink);\n",
              "      }\n",
              "    </script>\n",
              "  </div>\n",
              "\n",
              "\n",
              "    <div id=\"df-00d99de4-4fa5-4bf2-8c1e-b26ab0273369\">\n",
              "      <button class=\"colab-df-quickchart\" onclick=\"quickchart('df-00d99de4-4fa5-4bf2-8c1e-b26ab0273369')\"\n",
              "                title=\"Suggest charts\"\n",
              "                style=\"display:none;\">\n",
              "\n",
              "<svg xmlns=\"http://www.w3.org/2000/svg\" height=\"24px\"viewBox=\"0 0 24 24\"\n",
              "     width=\"24px\">\n",
              "    <g>\n",
              "        <path d=\"M19 3H5c-1.1 0-2 .9-2 2v14c0 1.1.9 2 2 2h14c1.1 0 2-.9 2-2V5c0-1.1-.9-2-2-2zM9 17H7v-7h2v7zm4 0h-2V7h2v10zm4 0h-2v-4h2v4z\"/>\n",
              "    </g>\n",
              "</svg>\n",
              "      </button>\n",
              "\n",
              "<style>\n",
              "  .colab-df-quickchart {\n",
              "      --bg-color: #E8F0FE;\n",
              "      --fill-color: #1967D2;\n",
              "      --hover-bg-color: #E2EBFA;\n",
              "      --hover-fill-color: #174EA6;\n",
              "      --disabled-fill-color: #AAA;\n",
              "      --disabled-bg-color: #DDD;\n",
              "  }\n",
              "\n",
              "  [theme=dark] .colab-df-quickchart {\n",
              "      --bg-color: #3B4455;\n",
              "      --fill-color: #D2E3FC;\n",
              "      --hover-bg-color: #434B5C;\n",
              "      --hover-fill-color: #FFFFFF;\n",
              "      --disabled-bg-color: #3B4455;\n",
              "      --disabled-fill-color: #666;\n",
              "  }\n",
              "\n",
              "  .colab-df-quickchart {\n",
              "    background-color: var(--bg-color);\n",
              "    border: none;\n",
              "    border-radius: 50%;\n",
              "    cursor: pointer;\n",
              "    display: none;\n",
              "    fill: var(--fill-color);\n",
              "    height: 32px;\n",
              "    padding: 0;\n",
              "    width: 32px;\n",
              "  }\n",
              "\n",
              "  .colab-df-quickchart:hover {\n",
              "    background-color: var(--hover-bg-color);\n",
              "    box-shadow: 0 1px 2px rgba(60, 64, 67, 0.3), 0 1px 3px 1px rgba(60, 64, 67, 0.15);\n",
              "    fill: var(--button-hover-fill-color);\n",
              "  }\n",
              "\n",
              "  .colab-df-quickchart-complete:disabled,\n",
              "  .colab-df-quickchart-complete:disabled:hover {\n",
              "    background-color: var(--disabled-bg-color);\n",
              "    fill: var(--disabled-fill-color);\n",
              "    box-shadow: none;\n",
              "  }\n",
              "\n",
              "  .colab-df-spinner {\n",
              "    border: 2px solid var(--fill-color);\n",
              "    border-color: transparent;\n",
              "    border-bottom-color: var(--fill-color);\n",
              "    animation:\n",
              "      spin 1s steps(1) infinite;\n",
              "  }\n",
              "\n",
              "  @keyframes spin {\n",
              "    0% {\n",
              "      border-color: transparent;\n",
              "      border-bottom-color: var(--fill-color);\n",
              "      border-left-color: var(--fill-color);\n",
              "    }\n",
              "    20% {\n",
              "      border-color: transparent;\n",
              "      border-left-color: var(--fill-color);\n",
              "      border-top-color: var(--fill-color);\n",
              "    }\n",
              "    30% {\n",
              "      border-color: transparent;\n",
              "      border-left-color: var(--fill-color);\n",
              "      border-top-color: var(--fill-color);\n",
              "      border-right-color: var(--fill-color);\n",
              "    }\n",
              "    40% {\n",
              "      border-color: transparent;\n",
              "      border-right-color: var(--fill-color);\n",
              "      border-top-color: var(--fill-color);\n",
              "    }\n",
              "    60% {\n",
              "      border-color: transparent;\n",
              "      border-right-color: var(--fill-color);\n",
              "    }\n",
              "    80% {\n",
              "      border-color: transparent;\n",
              "      border-right-color: var(--fill-color);\n",
              "      border-bottom-color: var(--fill-color);\n",
              "    }\n",
              "    90% {\n",
              "      border-color: transparent;\n",
              "      border-bottom-color: var(--fill-color);\n",
              "    }\n",
              "  }\n",
              "</style>\n",
              "\n",
              "      <script>\n",
              "        async function quickchart(key) {\n",
              "          const quickchartButtonEl =\n",
              "            document.querySelector('#' + key + ' button');\n",
              "          quickchartButtonEl.disabled = true;  // To prevent multiple clicks.\n",
              "          quickchartButtonEl.classList.add('colab-df-spinner');\n",
              "          try {\n",
              "            const charts = await google.colab.kernel.invokeFunction(\n",
              "                'suggestCharts', [key], {});\n",
              "          } catch (error) {\n",
              "            console.error('Error during call to suggestCharts:', error);\n",
              "          }\n",
              "          quickchartButtonEl.classList.remove('colab-df-spinner');\n",
              "          quickchartButtonEl.classList.add('colab-df-quickchart-complete');\n",
              "        }\n",
              "        (() => {\n",
              "          let quickchartButtonEl =\n",
              "            document.querySelector('#df-00d99de4-4fa5-4bf2-8c1e-b26ab0273369 button');\n",
              "          quickchartButtonEl.style.display =\n",
              "            google.colab.kernel.accessAllowed ? 'block' : 'none';\n",
              "        })();\n",
              "      </script>\n",
              "    </div>\n",
              "\n",
              "    </div>\n",
              "  </div>\n"
            ],
            "application/vnd.google.colaboratory.intrinsic+json": {
              "type": "dataframe",
              "variable_name": "df_bank",
              "summary": "{\n  \"name\": \"df_bank\",\n  \"rows\": 45211,\n  \"fields\": [\n    {\n      \"column\": \"age\",\n      \"properties\": {\n        \"dtype\": \"number\",\n        \"std\": 10,\n        \"min\": 18,\n        \"max\": 95,\n        \"num_unique_values\": 77,\n        \"samples\": [\n          35,\n          34,\n          53\n        ],\n        \"semantic_type\": \"\",\n        \"description\": \"\"\n      }\n    },\n    {\n      \"column\": \"job\",\n      \"properties\": {\n        \"dtype\": \"category\",\n        \"num_unique_values\": 12,\n        \"samples\": [\n          \"housemaid\",\n          \"unemployed\",\n          \"management\"\n        ],\n        \"semantic_type\": \"\",\n        \"description\": \"\"\n      }\n    },\n    {\n      \"column\": \"marital\",\n      \"properties\": {\n        \"dtype\": \"category\",\n        \"num_unique_values\": 3,\n        \"samples\": [\n          \"married\",\n          \"single\",\n          \"divorced\"\n        ],\n        \"semantic_type\": \"\",\n        \"description\": \"\"\n      }\n    },\n    {\n      \"column\": \"education\",\n      \"properties\": {\n        \"dtype\": \"category\",\n        \"num_unique_values\": 4,\n        \"samples\": [\n          \"secondary\",\n          \"primary\",\n          \"tertiary\"\n        ],\n        \"semantic_type\": \"\",\n        \"description\": \"\"\n      }\n    },\n    {\n      \"column\": \"default\",\n      \"properties\": {\n        \"dtype\": \"category\",\n        \"num_unique_values\": 2,\n        \"samples\": [\n          \"yes\",\n          \"no\"\n        ],\n        \"semantic_type\": \"\",\n        \"description\": \"\"\n      }\n    },\n    {\n      \"column\": \"balance\",\n      \"properties\": {\n        \"dtype\": \"number\",\n        \"std\": 3044,\n        \"min\": -8019,\n        \"max\": 102127,\n        \"num_unique_values\": 7168,\n        \"samples\": [\n          3276,\n          43\n        ],\n        \"semantic_type\": \"\",\n        \"description\": \"\"\n      }\n    },\n    {\n      \"column\": \"housing\",\n      \"properties\": {\n        \"dtype\": \"category\",\n        \"num_unique_values\": 2,\n        \"samples\": [\n          \"no\",\n          \"yes\"\n        ],\n        \"semantic_type\": \"\",\n        \"description\": \"\"\n      }\n    },\n    {\n      \"column\": \"loan\",\n      \"properties\": {\n        \"dtype\": \"category\",\n        \"num_unique_values\": 2,\n        \"samples\": [\n          \"yes\",\n          \"no\"\n        ],\n        \"semantic_type\": \"\",\n        \"description\": \"\"\n      }\n    },\n    {\n      \"column\": \"contact\",\n      \"properties\": {\n        \"dtype\": \"category\",\n        \"num_unique_values\": 3,\n        \"samples\": [\n          \"unknown\",\n          \"cellular\"\n        ],\n        \"semantic_type\": \"\",\n        \"description\": \"\"\n      }\n    },\n    {\n      \"column\": \"day\",\n      \"properties\": {\n        \"dtype\": \"number\",\n        \"std\": 8,\n        \"min\": 1,\n        \"max\": 31,\n        \"num_unique_values\": 31,\n        \"samples\": [\n          1,\n          27\n        ],\n        \"semantic_type\": \"\",\n        \"description\": \"\"\n      }\n    },\n    {\n      \"column\": \"month\",\n      \"properties\": {\n        \"dtype\": \"category\",\n        \"num_unique_values\": 12,\n        \"samples\": [\n          \"apr\",\n          \"mar\"\n        ],\n        \"semantic_type\": \"\",\n        \"description\": \"\"\n      }\n    },\n    {\n      \"column\": \"duration\",\n      \"properties\": {\n        \"dtype\": \"number\",\n        \"std\": 257,\n        \"min\": 0,\n        \"max\": 4918,\n        \"num_unique_values\": 1573,\n        \"samples\": [\n          835,\n          1135\n        ],\n        \"semantic_type\": \"\",\n        \"description\": \"\"\n      }\n    },\n    {\n      \"column\": \"campaign\",\n      \"properties\": {\n        \"dtype\": \"number\",\n        \"std\": 3,\n        \"min\": 1,\n        \"max\": 63,\n        \"num_unique_values\": 48,\n        \"samples\": [\n          41,\n          27\n        ],\n        \"semantic_type\": \"\",\n        \"description\": \"\"\n      }\n    },\n    {\n      \"column\": \"pdays\",\n      \"properties\": {\n        \"dtype\": \"number\",\n        \"std\": 100,\n        \"min\": -1,\n        \"max\": 871,\n        \"num_unique_values\": 559,\n        \"samples\": [\n          249,\n          551\n        ],\n        \"semantic_type\": \"\",\n        \"description\": \"\"\n      }\n    },\n    {\n      \"column\": \"previous\",\n      \"properties\": {\n        \"dtype\": \"number\",\n        \"std\": 2,\n        \"min\": 0,\n        \"max\": 275,\n        \"num_unique_values\": 41,\n        \"samples\": [\n          17,\n          9\n        ],\n        \"semantic_type\": \"\",\n        \"description\": \"\"\n      }\n    },\n    {\n      \"column\": \"poutcome\",\n      \"properties\": {\n        \"dtype\": \"category\",\n        \"num_unique_values\": 4,\n        \"samples\": [\n          \"failure\",\n          \"success\"\n        ],\n        \"semantic_type\": \"\",\n        \"description\": \"\"\n      }\n    },\n    {\n      \"column\": \"y\",\n      \"properties\": {\n        \"dtype\": \"category\",\n        \"num_unique_values\": 2,\n        \"samples\": [\n          \"yes\",\n          \"no\"\n        ],\n        \"semantic_type\": \"\",\n        \"description\": \"\"\n      }\n    }\n  ]\n}"
            }
          },
          "metadata": {},
          "execution_count": 12
        }
      ]
    },
    {
      "cell_type": "markdown",
      "id": "6dfc9aa5-5b07-494d-b756-bcbfc29505b8",
      "metadata": {
        "id": "6dfc9aa5-5b07-494d-b756-bcbfc29505b8"
      },
      "source": [
        "Cell 3: Focus on Age Column"
      ]
    },
    {
      "cell_type": "code",
      "execution_count": 14,
      "id": "5cc577e9-749f-4d5f-86f3-f853197e87a8",
      "metadata": {
        "id": "5cc577e9-749f-4d5f-86f3-f853197e87a8",
        "outputId": "e21e7fee-003b-437f-a227-a4941b095fbc",
        "colab": {
          "base_uri": "https://localhost:8080/"
        }
      },
      "outputs": [
        {
          "output_type": "stream",
          "name": "stdout",
          "text": [
            "Minimum age: 18\n",
            "Maximum age: 95\n"
          ]
        }
      ],
      "source": [
        " #STEP 3: Extract the 'age' column to perform binning\n",
        "\n",
        "# We are going to group ages into categories.\n",
        "ages = df_bank['age']\n",
        "\n",
        "# Check the minimum and maximum ages to understand the range\n",
        "print(\"Minimum age:\", ages.min())\n",
        "print(\"Maximum age:\", ages.max())\n",
        "#"
      ]
    },
    {
      "cell_type": "markdown",
      "source": [
        "#Equal Width Binning"
      ],
      "metadata": {
        "id": "Whsuw9Je2my8"
      },
      "id": "Whsuw9Je2my8"
    },
    {
      "cell_type": "code",
      "execution_count": 15,
      "id": "5ef364cf-250e-4bb5-97f6-72ccb16eb5d9",
      "metadata": {
        "id": "5ef364cf-250e-4bb5-97f6-72ccb16eb5d9",
        "outputId": "47b06820-ec63-4f7e-d2ad-09fee8cc1d49",
        "colab": {
          "base_uri": "https://localhost:8080/",
          "height": 363
        }
      },
      "outputs": [
        {
          "output_type": "execute_result",
          "data": {
            "text/plain": [
              "   age age_bin_width\n",
              "0   58        Mature\n",
              "1   44         Adult\n",
              "2   33         Young\n",
              "3   47         Adult\n",
              "4   33         Young\n",
              "5   35         Young\n",
              "6   28         Young\n",
              "7   42         Adult\n",
              "8   58        Mature\n",
              "9   43         Adult"
            ],
            "text/html": [
              "\n",
              "  <div id=\"df-de58f33e-5841-426a-a60d-d59008fc49b7\" class=\"colab-df-container\">\n",
              "    <div>\n",
              "<style scoped>\n",
              "    .dataframe tbody tr th:only-of-type {\n",
              "        vertical-align: middle;\n",
              "    }\n",
              "\n",
              "    .dataframe tbody tr th {\n",
              "        vertical-align: top;\n",
              "    }\n",
              "\n",
              "    .dataframe thead th {\n",
              "        text-align: right;\n",
              "    }\n",
              "</style>\n",
              "<table border=\"1\" class=\"dataframe\">\n",
              "  <thead>\n",
              "    <tr style=\"text-align: right;\">\n",
              "      <th></th>\n",
              "      <th>age</th>\n",
              "      <th>age_bin_width</th>\n",
              "    </tr>\n",
              "  </thead>\n",
              "  <tbody>\n",
              "    <tr>\n",
              "      <th>0</th>\n",
              "      <td>58</td>\n",
              "      <td>Mature</td>\n",
              "    </tr>\n",
              "    <tr>\n",
              "      <th>1</th>\n",
              "      <td>44</td>\n",
              "      <td>Adult</td>\n",
              "    </tr>\n",
              "    <tr>\n",
              "      <th>2</th>\n",
              "      <td>33</td>\n",
              "      <td>Young</td>\n",
              "    </tr>\n",
              "    <tr>\n",
              "      <th>3</th>\n",
              "      <td>47</td>\n",
              "      <td>Adult</td>\n",
              "    </tr>\n",
              "    <tr>\n",
              "      <th>4</th>\n",
              "      <td>33</td>\n",
              "      <td>Young</td>\n",
              "    </tr>\n",
              "    <tr>\n",
              "      <th>5</th>\n",
              "      <td>35</td>\n",
              "      <td>Young</td>\n",
              "    </tr>\n",
              "    <tr>\n",
              "      <th>6</th>\n",
              "      <td>28</td>\n",
              "      <td>Young</td>\n",
              "    </tr>\n",
              "    <tr>\n",
              "      <th>7</th>\n",
              "      <td>42</td>\n",
              "      <td>Adult</td>\n",
              "    </tr>\n",
              "    <tr>\n",
              "      <th>8</th>\n",
              "      <td>58</td>\n",
              "      <td>Mature</td>\n",
              "    </tr>\n",
              "    <tr>\n",
              "      <th>9</th>\n",
              "      <td>43</td>\n",
              "      <td>Adult</td>\n",
              "    </tr>\n",
              "  </tbody>\n",
              "</table>\n",
              "</div>\n",
              "    <div class=\"colab-df-buttons\">\n",
              "\n",
              "  <div class=\"colab-df-container\">\n",
              "    <button class=\"colab-df-convert\" onclick=\"convertToInteractive('df-de58f33e-5841-426a-a60d-d59008fc49b7')\"\n",
              "            title=\"Convert this dataframe to an interactive table.\"\n",
              "            style=\"display:none;\">\n",
              "\n",
              "  <svg xmlns=\"http://www.w3.org/2000/svg\" height=\"24px\" viewBox=\"0 -960 960 960\">\n",
              "    <path d=\"M120-120v-720h720v720H120Zm60-500h600v-160H180v160Zm220 220h160v-160H400v160Zm0 220h160v-160H400v160ZM180-400h160v-160H180v160Zm440 0h160v-160H620v160ZM180-180h160v-160H180v160Zm440 0h160v-160H620v160Z\"/>\n",
              "  </svg>\n",
              "    </button>\n",
              "\n",
              "  <style>\n",
              "    .colab-df-container {\n",
              "      display:flex;\n",
              "      gap: 12px;\n",
              "    }\n",
              "\n",
              "    .colab-df-convert {\n",
              "      background-color: #E8F0FE;\n",
              "      border: none;\n",
              "      border-radius: 50%;\n",
              "      cursor: pointer;\n",
              "      display: none;\n",
              "      fill: #1967D2;\n",
              "      height: 32px;\n",
              "      padding: 0 0 0 0;\n",
              "      width: 32px;\n",
              "    }\n",
              "\n",
              "    .colab-df-convert:hover {\n",
              "      background-color: #E2EBFA;\n",
              "      box-shadow: 0px 1px 2px rgba(60, 64, 67, 0.3), 0px 1px 3px 1px rgba(60, 64, 67, 0.15);\n",
              "      fill: #174EA6;\n",
              "    }\n",
              "\n",
              "    .colab-df-buttons div {\n",
              "      margin-bottom: 4px;\n",
              "    }\n",
              "\n",
              "    [theme=dark] .colab-df-convert {\n",
              "      background-color: #3B4455;\n",
              "      fill: #D2E3FC;\n",
              "    }\n",
              "\n",
              "    [theme=dark] .colab-df-convert:hover {\n",
              "      background-color: #434B5C;\n",
              "      box-shadow: 0px 1px 3px 1px rgba(0, 0, 0, 0.15);\n",
              "      filter: drop-shadow(0px 1px 2px rgba(0, 0, 0, 0.3));\n",
              "      fill: #FFFFFF;\n",
              "    }\n",
              "  </style>\n",
              "\n",
              "    <script>\n",
              "      const buttonEl =\n",
              "        document.querySelector('#df-de58f33e-5841-426a-a60d-d59008fc49b7 button.colab-df-convert');\n",
              "      buttonEl.style.display =\n",
              "        google.colab.kernel.accessAllowed ? 'block' : 'none';\n",
              "\n",
              "      async function convertToInteractive(key) {\n",
              "        const element = document.querySelector('#df-de58f33e-5841-426a-a60d-d59008fc49b7');\n",
              "        const dataTable =\n",
              "          await google.colab.kernel.invokeFunction('convertToInteractive',\n",
              "                                                    [key], {});\n",
              "        if (!dataTable) return;\n",
              "\n",
              "        const docLinkHtml = 'Like what you see? Visit the ' +\n",
              "          '<a target=\"_blank\" href=https://colab.research.google.com/notebooks/data_table.ipynb>data table notebook</a>'\n",
              "          + ' to learn more about interactive tables.';\n",
              "        element.innerHTML = '';\n",
              "        dataTable['output_type'] = 'display_data';\n",
              "        await google.colab.output.renderOutput(dataTable, element);\n",
              "        const docLink = document.createElement('div');\n",
              "        docLink.innerHTML = docLinkHtml;\n",
              "        element.appendChild(docLink);\n",
              "      }\n",
              "    </script>\n",
              "  </div>\n",
              "\n",
              "\n",
              "    <div id=\"df-d1d8c4f8-d91f-4c0b-8c76-47cd935b7d5a\">\n",
              "      <button class=\"colab-df-quickchart\" onclick=\"quickchart('df-d1d8c4f8-d91f-4c0b-8c76-47cd935b7d5a')\"\n",
              "                title=\"Suggest charts\"\n",
              "                style=\"display:none;\">\n",
              "\n",
              "<svg xmlns=\"http://www.w3.org/2000/svg\" height=\"24px\"viewBox=\"0 0 24 24\"\n",
              "     width=\"24px\">\n",
              "    <g>\n",
              "        <path d=\"M19 3H5c-1.1 0-2 .9-2 2v14c0 1.1.9 2 2 2h14c1.1 0 2-.9 2-2V5c0-1.1-.9-2-2-2zM9 17H7v-7h2v7zm4 0h-2V7h2v10zm4 0h-2v-4h2v4z\"/>\n",
              "    </g>\n",
              "</svg>\n",
              "      </button>\n",
              "\n",
              "<style>\n",
              "  .colab-df-quickchart {\n",
              "      --bg-color: #E8F0FE;\n",
              "      --fill-color: #1967D2;\n",
              "      --hover-bg-color: #E2EBFA;\n",
              "      --hover-fill-color: #174EA6;\n",
              "      --disabled-fill-color: #AAA;\n",
              "      --disabled-bg-color: #DDD;\n",
              "  }\n",
              "\n",
              "  [theme=dark] .colab-df-quickchart {\n",
              "      --bg-color: #3B4455;\n",
              "      --fill-color: #D2E3FC;\n",
              "      --hover-bg-color: #434B5C;\n",
              "      --hover-fill-color: #FFFFFF;\n",
              "      --disabled-bg-color: #3B4455;\n",
              "      --disabled-fill-color: #666;\n",
              "  }\n",
              "\n",
              "  .colab-df-quickchart {\n",
              "    background-color: var(--bg-color);\n",
              "    border: none;\n",
              "    border-radius: 50%;\n",
              "    cursor: pointer;\n",
              "    display: none;\n",
              "    fill: var(--fill-color);\n",
              "    height: 32px;\n",
              "    padding: 0;\n",
              "    width: 32px;\n",
              "  }\n",
              "\n",
              "  .colab-df-quickchart:hover {\n",
              "    background-color: var(--hover-bg-color);\n",
              "    box-shadow: 0 1px 2px rgba(60, 64, 67, 0.3), 0 1px 3px 1px rgba(60, 64, 67, 0.15);\n",
              "    fill: var(--button-hover-fill-color);\n",
              "  }\n",
              "\n",
              "  .colab-df-quickchart-complete:disabled,\n",
              "  .colab-df-quickchart-complete:disabled:hover {\n",
              "    background-color: var(--disabled-bg-color);\n",
              "    fill: var(--disabled-fill-color);\n",
              "    box-shadow: none;\n",
              "  }\n",
              "\n",
              "  .colab-df-spinner {\n",
              "    border: 2px solid var(--fill-color);\n",
              "    border-color: transparent;\n",
              "    border-bottom-color: var(--fill-color);\n",
              "    animation:\n",
              "      spin 1s steps(1) infinite;\n",
              "  }\n",
              "\n",
              "  @keyframes spin {\n",
              "    0% {\n",
              "      border-color: transparent;\n",
              "      border-bottom-color: var(--fill-color);\n",
              "      border-left-color: var(--fill-color);\n",
              "    }\n",
              "    20% {\n",
              "      border-color: transparent;\n",
              "      border-left-color: var(--fill-color);\n",
              "      border-top-color: var(--fill-color);\n",
              "    }\n",
              "    30% {\n",
              "      border-color: transparent;\n",
              "      border-left-color: var(--fill-color);\n",
              "      border-top-color: var(--fill-color);\n",
              "      border-right-color: var(--fill-color);\n",
              "    }\n",
              "    40% {\n",
              "      border-color: transparent;\n",
              "      border-right-color: var(--fill-color);\n",
              "      border-top-color: var(--fill-color);\n",
              "    }\n",
              "    60% {\n",
              "      border-color: transparent;\n",
              "      border-right-color: var(--fill-color);\n",
              "    }\n",
              "    80% {\n",
              "      border-color: transparent;\n",
              "      border-right-color: var(--fill-color);\n",
              "      border-bottom-color: var(--fill-color);\n",
              "    }\n",
              "    90% {\n",
              "      border-color: transparent;\n",
              "      border-bottom-color: var(--fill-color);\n",
              "    }\n",
              "  }\n",
              "</style>\n",
              "\n",
              "      <script>\n",
              "        async function quickchart(key) {\n",
              "          const quickchartButtonEl =\n",
              "            document.querySelector('#' + key + ' button');\n",
              "          quickchartButtonEl.disabled = true;  // To prevent multiple clicks.\n",
              "          quickchartButtonEl.classList.add('colab-df-spinner');\n",
              "          try {\n",
              "            const charts = await google.colab.kernel.invokeFunction(\n",
              "                'suggestCharts', [key], {});\n",
              "          } catch (error) {\n",
              "            console.error('Error during call to suggestCharts:', error);\n",
              "          }\n",
              "          quickchartButtonEl.classList.remove('colab-df-spinner');\n",
              "          quickchartButtonEl.classList.add('colab-df-quickchart-complete');\n",
              "        }\n",
              "        (() => {\n",
              "          let quickchartButtonEl =\n",
              "            document.querySelector('#df-d1d8c4f8-d91f-4c0b-8c76-47cd935b7d5a button');\n",
              "          quickchartButtonEl.style.display =\n",
              "            google.colab.kernel.accessAllowed ? 'block' : 'none';\n",
              "        })();\n",
              "      </script>\n",
              "    </div>\n",
              "\n",
              "    </div>\n",
              "  </div>\n"
            ],
            "application/vnd.google.colaboratory.intrinsic+json": {
              "type": "dataframe",
              "summary": "{\n  \"name\": \"df_bank[['age', 'age_bin_width']]\",\n  \"rows\": 10,\n  \"fields\": [\n    {\n      \"column\": \"age\",\n      \"properties\": {\n        \"dtype\": \"number\",\n        \"std\": 10,\n        \"min\": 28,\n        \"max\": 58,\n        \"num_unique_values\": 8,\n        \"samples\": [\n          44,\n          28,\n          58\n        ],\n        \"semantic_type\": \"\",\n        \"description\": \"\"\n      }\n    },\n    {\n      \"column\": \"age_bin_width\",\n      \"properties\": {\n        \"dtype\": \"category\",\n        \"num_unique_values\": 3,\n        \"samples\": [\n          \"Mature\",\n          \"Adult\",\n          \"Young\"\n        ],\n        \"semantic_type\": \"\",\n        \"description\": \"\"\n      }\n    }\n  ]\n}"
            }
          },
          "metadata": {},
          "execution_count": 15
        }
      ],
      "source": [
        "# STEP 4: Equal-Width Binning (Divide age range into 4 equal intervals)\n",
        "\n",
        "# We divide the entire age range into 4 equal parts using pd.cut().\n",
        "# We assign meaningful labels to each age group for readability.\n",
        "df_bank['age_bin_width'] = pd.cut(\n",
        "    ages,\n",
        "    bins=4,  # 4 intervals of equal width\n",
        "    labels=['Young', 'Adult', 'Mature', 'Senior']\n",
        ")\n",
        "\n",
        "# Let's check how the binning looks\n",
        "df_bank[['age', 'age_bin_width']].head(10)\n"
      ]
    },
    {
      "cell_type": "markdown",
      "id": "56e74b9e-29b8-4069-b791-a1c0287b3b8b",
      "metadata": {
        "id": "56e74b9e-29b8-4069-b791-a1c0287b3b8b"
      },
      "source": [
        "Cell 5: Equal-Frequency Binning"
      ]
    },
    {
      "cell_type": "code",
      "execution_count": 16,
      "id": "afce9ca4-6804-48fb-b08b-d793187c520c",
      "metadata": {
        "id": "afce9ca4-6804-48fb-b08b-d793187c520c",
        "outputId": "ed37fa2c-c434-4790-8aab-eb0641853124",
        "colab": {
          "base_uri": "https://localhost:8080/",
          "height": 363
        }
      },
      "outputs": [
        {
          "output_type": "execute_result",
          "data": {
            "text/plain": [
              "   age age_bin_width age_bin_freq\n",
              "0   58        Mature           Q4\n",
              "1   44         Adult           Q3\n",
              "2   33         Young           Q1\n",
              "3   47         Adult           Q3\n",
              "4   33         Young           Q1\n",
              "5   35         Young           Q2\n",
              "6   28         Young           Q1\n",
              "7   42         Adult           Q3\n",
              "8   58        Mature           Q4\n",
              "9   43         Adult           Q3"
            ],
            "text/html": [
              "\n",
              "  <div id=\"df-c3b683c4-a8ea-4814-babd-c3cacf19a11b\" class=\"colab-df-container\">\n",
              "    <div>\n",
              "<style scoped>\n",
              "    .dataframe tbody tr th:only-of-type {\n",
              "        vertical-align: middle;\n",
              "    }\n",
              "\n",
              "    .dataframe tbody tr th {\n",
              "        vertical-align: top;\n",
              "    }\n",
              "\n",
              "    .dataframe thead th {\n",
              "        text-align: right;\n",
              "    }\n",
              "</style>\n",
              "<table border=\"1\" class=\"dataframe\">\n",
              "  <thead>\n",
              "    <tr style=\"text-align: right;\">\n",
              "      <th></th>\n",
              "      <th>age</th>\n",
              "      <th>age_bin_width</th>\n",
              "      <th>age_bin_freq</th>\n",
              "    </tr>\n",
              "  </thead>\n",
              "  <tbody>\n",
              "    <tr>\n",
              "      <th>0</th>\n",
              "      <td>58</td>\n",
              "      <td>Mature</td>\n",
              "      <td>Q4</td>\n",
              "    </tr>\n",
              "    <tr>\n",
              "      <th>1</th>\n",
              "      <td>44</td>\n",
              "      <td>Adult</td>\n",
              "      <td>Q3</td>\n",
              "    </tr>\n",
              "    <tr>\n",
              "      <th>2</th>\n",
              "      <td>33</td>\n",
              "      <td>Young</td>\n",
              "      <td>Q1</td>\n",
              "    </tr>\n",
              "    <tr>\n",
              "      <th>3</th>\n",
              "      <td>47</td>\n",
              "      <td>Adult</td>\n",
              "      <td>Q3</td>\n",
              "    </tr>\n",
              "    <tr>\n",
              "      <th>4</th>\n",
              "      <td>33</td>\n",
              "      <td>Young</td>\n",
              "      <td>Q1</td>\n",
              "    </tr>\n",
              "    <tr>\n",
              "      <th>5</th>\n",
              "      <td>35</td>\n",
              "      <td>Young</td>\n",
              "      <td>Q2</td>\n",
              "    </tr>\n",
              "    <tr>\n",
              "      <th>6</th>\n",
              "      <td>28</td>\n",
              "      <td>Young</td>\n",
              "      <td>Q1</td>\n",
              "    </tr>\n",
              "    <tr>\n",
              "      <th>7</th>\n",
              "      <td>42</td>\n",
              "      <td>Adult</td>\n",
              "      <td>Q3</td>\n",
              "    </tr>\n",
              "    <tr>\n",
              "      <th>8</th>\n",
              "      <td>58</td>\n",
              "      <td>Mature</td>\n",
              "      <td>Q4</td>\n",
              "    </tr>\n",
              "    <tr>\n",
              "      <th>9</th>\n",
              "      <td>43</td>\n",
              "      <td>Adult</td>\n",
              "      <td>Q3</td>\n",
              "    </tr>\n",
              "  </tbody>\n",
              "</table>\n",
              "</div>\n",
              "    <div class=\"colab-df-buttons\">\n",
              "\n",
              "  <div class=\"colab-df-container\">\n",
              "    <button class=\"colab-df-convert\" onclick=\"convertToInteractive('df-c3b683c4-a8ea-4814-babd-c3cacf19a11b')\"\n",
              "            title=\"Convert this dataframe to an interactive table.\"\n",
              "            style=\"display:none;\">\n",
              "\n",
              "  <svg xmlns=\"http://www.w3.org/2000/svg\" height=\"24px\" viewBox=\"0 -960 960 960\">\n",
              "    <path d=\"M120-120v-720h720v720H120Zm60-500h600v-160H180v160Zm220 220h160v-160H400v160Zm0 220h160v-160H400v160ZM180-400h160v-160H180v160Zm440 0h160v-160H620v160ZM180-180h160v-160H180v160Zm440 0h160v-160H620v160Z\"/>\n",
              "  </svg>\n",
              "    </button>\n",
              "\n",
              "  <style>\n",
              "    .colab-df-container {\n",
              "      display:flex;\n",
              "      gap: 12px;\n",
              "    }\n",
              "\n",
              "    .colab-df-convert {\n",
              "      background-color: #E8F0FE;\n",
              "      border: none;\n",
              "      border-radius: 50%;\n",
              "      cursor: pointer;\n",
              "      display: none;\n",
              "      fill: #1967D2;\n",
              "      height: 32px;\n",
              "      padding: 0 0 0 0;\n",
              "      width: 32px;\n",
              "    }\n",
              "\n",
              "    .colab-df-convert:hover {\n",
              "      background-color: #E2EBFA;\n",
              "      box-shadow: 0px 1px 2px rgba(60, 64, 67, 0.3), 0px 1px 3px 1px rgba(60, 64, 67, 0.15);\n",
              "      fill: #174EA6;\n",
              "    }\n",
              "\n",
              "    .colab-df-buttons div {\n",
              "      margin-bottom: 4px;\n",
              "    }\n",
              "\n",
              "    [theme=dark] .colab-df-convert {\n",
              "      background-color: #3B4455;\n",
              "      fill: #D2E3FC;\n",
              "    }\n",
              "\n",
              "    [theme=dark] .colab-df-convert:hover {\n",
              "      background-color: #434B5C;\n",
              "      box-shadow: 0px 1px 3px 1px rgba(0, 0, 0, 0.15);\n",
              "      filter: drop-shadow(0px 1px 2px rgba(0, 0, 0, 0.3));\n",
              "      fill: #FFFFFF;\n",
              "    }\n",
              "  </style>\n",
              "\n",
              "    <script>\n",
              "      const buttonEl =\n",
              "        document.querySelector('#df-c3b683c4-a8ea-4814-babd-c3cacf19a11b button.colab-df-convert');\n",
              "      buttonEl.style.display =\n",
              "        google.colab.kernel.accessAllowed ? 'block' : 'none';\n",
              "\n",
              "      async function convertToInteractive(key) {\n",
              "        const element = document.querySelector('#df-c3b683c4-a8ea-4814-babd-c3cacf19a11b');\n",
              "        const dataTable =\n",
              "          await google.colab.kernel.invokeFunction('convertToInteractive',\n",
              "                                                    [key], {});\n",
              "        if (!dataTable) return;\n",
              "\n",
              "        const docLinkHtml = 'Like what you see? Visit the ' +\n",
              "          '<a target=\"_blank\" href=https://colab.research.google.com/notebooks/data_table.ipynb>data table notebook</a>'\n",
              "          + ' to learn more about interactive tables.';\n",
              "        element.innerHTML = '';\n",
              "        dataTable['output_type'] = 'display_data';\n",
              "        await google.colab.output.renderOutput(dataTable, element);\n",
              "        const docLink = document.createElement('div');\n",
              "        docLink.innerHTML = docLinkHtml;\n",
              "        element.appendChild(docLink);\n",
              "      }\n",
              "    </script>\n",
              "  </div>\n",
              "\n",
              "\n",
              "    <div id=\"df-93f8e698-fffc-4c0d-b66b-0c72a63d73f5\">\n",
              "      <button class=\"colab-df-quickchart\" onclick=\"quickchart('df-93f8e698-fffc-4c0d-b66b-0c72a63d73f5')\"\n",
              "                title=\"Suggest charts\"\n",
              "                style=\"display:none;\">\n",
              "\n",
              "<svg xmlns=\"http://www.w3.org/2000/svg\" height=\"24px\"viewBox=\"0 0 24 24\"\n",
              "     width=\"24px\">\n",
              "    <g>\n",
              "        <path d=\"M19 3H5c-1.1 0-2 .9-2 2v14c0 1.1.9 2 2 2h14c1.1 0 2-.9 2-2V5c0-1.1-.9-2-2-2zM9 17H7v-7h2v7zm4 0h-2V7h2v10zm4 0h-2v-4h2v4z\"/>\n",
              "    </g>\n",
              "</svg>\n",
              "      </button>\n",
              "\n",
              "<style>\n",
              "  .colab-df-quickchart {\n",
              "      --bg-color: #E8F0FE;\n",
              "      --fill-color: #1967D2;\n",
              "      --hover-bg-color: #E2EBFA;\n",
              "      --hover-fill-color: #174EA6;\n",
              "      --disabled-fill-color: #AAA;\n",
              "      --disabled-bg-color: #DDD;\n",
              "  }\n",
              "\n",
              "  [theme=dark] .colab-df-quickchart {\n",
              "      --bg-color: #3B4455;\n",
              "      --fill-color: #D2E3FC;\n",
              "      --hover-bg-color: #434B5C;\n",
              "      --hover-fill-color: #FFFFFF;\n",
              "      --disabled-bg-color: #3B4455;\n",
              "      --disabled-fill-color: #666;\n",
              "  }\n",
              "\n",
              "  .colab-df-quickchart {\n",
              "    background-color: var(--bg-color);\n",
              "    border: none;\n",
              "    border-radius: 50%;\n",
              "    cursor: pointer;\n",
              "    display: none;\n",
              "    fill: var(--fill-color);\n",
              "    height: 32px;\n",
              "    padding: 0;\n",
              "    width: 32px;\n",
              "  }\n",
              "\n",
              "  .colab-df-quickchart:hover {\n",
              "    background-color: var(--hover-bg-color);\n",
              "    box-shadow: 0 1px 2px rgba(60, 64, 67, 0.3), 0 1px 3px 1px rgba(60, 64, 67, 0.15);\n",
              "    fill: var(--button-hover-fill-color);\n",
              "  }\n",
              "\n",
              "  .colab-df-quickchart-complete:disabled,\n",
              "  .colab-df-quickchart-complete:disabled:hover {\n",
              "    background-color: var(--disabled-bg-color);\n",
              "    fill: var(--disabled-fill-color);\n",
              "    box-shadow: none;\n",
              "  }\n",
              "\n",
              "  .colab-df-spinner {\n",
              "    border: 2px solid var(--fill-color);\n",
              "    border-color: transparent;\n",
              "    border-bottom-color: var(--fill-color);\n",
              "    animation:\n",
              "      spin 1s steps(1) infinite;\n",
              "  }\n",
              "\n",
              "  @keyframes spin {\n",
              "    0% {\n",
              "      border-color: transparent;\n",
              "      border-bottom-color: var(--fill-color);\n",
              "      border-left-color: var(--fill-color);\n",
              "    }\n",
              "    20% {\n",
              "      border-color: transparent;\n",
              "      border-left-color: var(--fill-color);\n",
              "      border-top-color: var(--fill-color);\n",
              "    }\n",
              "    30% {\n",
              "      border-color: transparent;\n",
              "      border-left-color: var(--fill-color);\n",
              "      border-top-color: var(--fill-color);\n",
              "      border-right-color: var(--fill-color);\n",
              "    }\n",
              "    40% {\n",
              "      border-color: transparent;\n",
              "      border-right-color: var(--fill-color);\n",
              "      border-top-color: var(--fill-color);\n",
              "    }\n",
              "    60% {\n",
              "      border-color: transparent;\n",
              "      border-right-color: var(--fill-color);\n",
              "    }\n",
              "    80% {\n",
              "      border-color: transparent;\n",
              "      border-right-color: var(--fill-color);\n",
              "      border-bottom-color: var(--fill-color);\n",
              "    }\n",
              "    90% {\n",
              "      border-color: transparent;\n",
              "      border-bottom-color: var(--fill-color);\n",
              "    }\n",
              "  }\n",
              "</style>\n",
              "\n",
              "      <script>\n",
              "        async function quickchart(key) {\n",
              "          const quickchartButtonEl =\n",
              "            document.querySelector('#' + key + ' button');\n",
              "          quickchartButtonEl.disabled = true;  // To prevent multiple clicks.\n",
              "          quickchartButtonEl.classList.add('colab-df-spinner');\n",
              "          try {\n",
              "            const charts = await google.colab.kernel.invokeFunction(\n",
              "                'suggestCharts', [key], {});\n",
              "          } catch (error) {\n",
              "            console.error('Error during call to suggestCharts:', error);\n",
              "          }\n",
              "          quickchartButtonEl.classList.remove('colab-df-spinner');\n",
              "          quickchartButtonEl.classList.add('colab-df-quickchart-complete');\n",
              "        }\n",
              "        (() => {\n",
              "          let quickchartButtonEl =\n",
              "            document.querySelector('#df-93f8e698-fffc-4c0d-b66b-0c72a63d73f5 button');\n",
              "          quickchartButtonEl.style.display =\n",
              "            google.colab.kernel.accessAllowed ? 'block' : 'none';\n",
              "        })();\n",
              "      </script>\n",
              "    </div>\n",
              "\n",
              "    </div>\n",
              "  </div>\n"
            ],
            "application/vnd.google.colaboratory.intrinsic+json": {
              "type": "dataframe",
              "summary": "{\n  \"name\": \"df_bank[['age', 'age_bin_width', 'age_bin_freq']]\",\n  \"rows\": 10,\n  \"fields\": [\n    {\n      \"column\": \"age\",\n      \"properties\": {\n        \"dtype\": \"number\",\n        \"std\": 10,\n        \"min\": 28,\n        \"max\": 58,\n        \"num_unique_values\": 8,\n        \"samples\": [\n          44,\n          28,\n          58\n        ],\n        \"semantic_type\": \"\",\n        \"description\": \"\"\n      }\n    },\n    {\n      \"column\": \"age_bin_width\",\n      \"properties\": {\n        \"dtype\": \"category\",\n        \"num_unique_values\": 3,\n        \"samples\": [\n          \"Mature\",\n          \"Adult\",\n          \"Young\"\n        ],\n        \"semantic_type\": \"\",\n        \"description\": \"\"\n      }\n    },\n    {\n      \"column\": \"age_bin_freq\",\n      \"properties\": {\n        \"dtype\": \"category\",\n        \"num_unique_values\": 4,\n        \"samples\": [\n          \"Q3\",\n          \"Q2\",\n          \"Q4\"\n        ],\n        \"semantic_type\": \"\",\n        \"description\": \"\"\n      }\n    }\n  ]\n}"
            }
          },
          "metadata": {},
          "execution_count": 16
        }
      ],
      "source": [
        "# STEP 5: Equal-Frequency Binning (Each bin has ~25% of the data)\n",
        "\n",
        "# This uses pd.qcut(), which splits data based on percentiles (quartiles here).\n",
        "# This ensures that each bin has a roughly equal number of people.\n",
        "df_bank['age_bin_freq'] = pd.qcut(\n",
        "    ages,\n",
        "    q=4,  # 4 equal-frequency bins\n",
        "    labels=['Q1', 'Q2', 'Q3', 'Q4']\n",
        ")\n",
        "\n",
        "# Let's check how this looks along with previous binning\n",
        "df_bank[['age', 'age_bin_width', 'age_bin_freq']].head(10)\n"
      ]
    },
    {
      "cell_type": "markdown",
      "id": "076e7e69-57f0-4d00-9d16-117d76faa8c1",
      "metadata": {
        "id": "076e7e69-57f0-4d00-9d16-117d76faa8c1"
      },
      "source": [
        "Cell 6: Visualize Age Group Distributions"
      ]
    },
    {
      "cell_type": "code",
      "execution_count": 17,
      "id": "f2cfb208-ccf9-4cca-99c6-f1af0776f82f",
      "metadata": {
        "id": "f2cfb208-ccf9-4cca-99c6-f1af0776f82f",
        "outputId": "4338d51c-f4a5-4d79-d663-bb492af71665",
        "colab": {
          "base_uri": "https://localhost:8080/",
          "height": 507
        }
      },
      "outputs": [
        {
          "output_type": "display_data",
          "data": {
            "text/plain": [
              "<Figure size 1200x500 with 2 Axes>"
            ],
            "image/png": "[encoded data removed]"
          },
          "metadata": {}
        }
      ],
      "source": [
        "# STEP 6: Visualize the distribution of age bins using bar plots\n",
        "\n",
        "# We'll create side-by-side plots to compare both binning methods.\n",
        "\n",
        "# Set up a 1-row, 2-column subplot\n",
        "fig, axes = plt.subplots(1, 2, figsize=(12, 5))\n",
        "\n",
        "# Plot 1: Equal-Width Binning\n",
        "sns.countplot(x='age_bin_width', data=df_bank, ax=axes[0])\n",
        "axes[0].set_title('Equal-Width Bins')\n",
        "axes[0].set_xlabel('Age Group')\n",
        "axes[0].set_ylabel('Number of Customers')\n",
        "\n",
        "# Plot 2: Equal-Frequency Binning\n",
        "sns.countplot(x='age_bin_freq', data=df_bank, ax=axes[1])\n",
        "axes[1].set_title('Equal-Frequency Bins')\n",
        "axes[1].set_xlabel('Age Quartile')\n",
        "axes[1].set_ylabel('Number of Customers')\n",
        "\n",
        "# Show plots\n",
        "plt.tight_layout()\n",
        "plt.show()"
      ]
    },
    {
      "cell_type": "markdown",
      "id": "7bbace8f-96bb-406a-bb3c-17c995039267",
      "metadata": {
        "id": "7bbace8f-96bb-406a-bb3c-17c995039267"
      },
      "source": [
        "Cell 7: Final Insights"
      ]
    },
    {
      "cell_type": "code",
      "execution_count": null,
      "id": "9c5d3ac5-81ad-49fc-ac96-5000bde54790",
      "metadata": {
        "id": "9c5d3ac5-81ad-49fc-ac96-5000bde54790"
      },
      "outputs": [],
      "source": [
        "# STEP 7: What did we learn?\n",
        "\n",
        "# 1. Equal-width binning divides the range of ages into equal intervals,\n",
        "#    but it might result in unbalanced bins if the data is skewed.\n",
        "\n",
        "# 2. Equal-frequency binning ensures each group has the same number of records,\n",
        "#    but the width (range) of each bin can vary.\n",
        "\n",
        "# When to use which?\n",
        "# - Use equal-width when the data is uniformly spread.\n",
        "# - Use equal-frequency when you want balanced group sizes for modeling or visualization.\n"
      ]
    },
    {
      "cell_type": "markdown",
      "id": "83cfcffe-934b-4ca0-8c16-c6e153f17de5",
      "metadata": {
        "id": "83cfcffe-934b-4ca0-8c16-c6e153f17de5"
      },
      "source": [
        "#Binarization\n",
        "Goal: Create a binary flag is_senior if age > 60."
      ]
    },
    {
      "cell_type": "code",
      "execution_count": null,
      "id": "d14650de-e18d-4ef2-9d55-be4356af5b40",
      "metadata": {
        "id": "d14650de-e18d-4ef2-9d55-be4356af5b40",
        "outputId": "3208e687-7ecd-48d1-e280-e77fb0a1b96a"
      },
      "outputs": [
        {
          "data": {
            "image/png": "[encoded data removed]",
            "text/plain": [
              "<Figure size 640x480 with 1 Axes>"
            ]
          },
          "metadata": {},
          "output_type": "display_data"
        }
      ],
      "source": [
        "# Binary flag based on threshold\n",
        "df_bank['is_senior'] = (df_bank['age'] > 60).astype(int)\n",
        "\n",
        "# View distribution\n",
        "sns.countplot(x='is_senior', data=df_bank).set_title('Senior Flag Distribution')\n",
        "plt.show()\n",
        "\n",
        "#Why: Flags like is_senior simplify feature space and facilitate decision-making in models.\n",
        "#Impact: Adds interpretability; e.g., helps models easily learn age-related risk."
      ]
    },
    {
      "cell_type": "markdown",
      "id": "2605521a-2766-43c5-a1e0-5598a35b861e",
      "metadata": {
        "id": "2605521a-2766-43c5-a1e0-5598a35b861e"
      },
      "source": [
        "#Normalization & Standardization\n",
        "Goal: Compare effects on KNN using Min-Max vs Z-score scaling."
      ]
    },
    {
      "cell_type": "code",
      "source": [
        "\n",
        "filePath='/content/drive/MyDrive/BITS PILANI/winequality-red.csv'\n",
        "df_wine=pd.read_csv(filePath,sep=',')"
      ],
      "metadata": {
        "id": "jhBsNyZH94bb"
      },
      "id": "jhBsNyZH94bb",
      "execution_count": 21,
      "outputs": []
    },
    {
      "cell_type": "code",
      "execution_count": 22,
      "id": "a4683a41-3477-4a6f-b154-5a3390e4fd7c",
      "metadata": {
        "id": "a4683a41-3477-4a6f-b154-5a3390e4fd7c"
      },
      "outputs": [],
      "source": [
        "# STEP 1: Import all required libraries\n",
        "\n",
        "import pandas as pd                               # For handling dataframes\n",
        "import numpy as np                                # For numerical operations\n",
        "from sklearn.preprocessing import MinMaxScaler, StandardScaler   # For scaling\n",
        "from sklearn.neighbors import KNeighborsClassifier              # KNN model\n",
        "from sklearn.model_selection import train_test_split            # For splitting dataset"
      ]
    },
    {
      "cell_type": "markdown",
      "id": "96b3a4c3-903b-4c64-a990-4076e8716de0",
      "metadata": {
        "id": "96b3a4c3-903b-4c64-a990-4076e8716de0"
      },
      "source": [
        "Cell 2: Load the Wine Quality Dataset"
      ]
    },
    {
      "cell_type": "code",
      "execution_count": 23,
      "id": "d3326f38-1f6b-468e-87d2-3a56fa5f4675",
      "metadata": {
        "id": "d3326f38-1f6b-468e-87d2-3a56fa5f4675"
      },
      "outputs": [],
      "source": [
        "# STEP 2: Load the wine quality dataset\n",
        "\n",
        "\n",
        "\n",
        "# Separate features (X) and target (y)\n",
        "X = df_wine.drop('quality', axis=1)  # All columns except 'quality'\n",
        "y = df_wine['quality']               # Only the 'quality' column\n"
      ]
    },
    {
      "cell_type": "markdown",
      "id": "9ad5062c-e96f-462a-b077-3f267b2e209e",
      "metadata": {
        "id": "9ad5062c-e96f-462a-b077-3f267b2e209e"
      },
      "source": [
        "Cell 3: Split the Data into Training and Testing Sets"
      ]
    },
    {
      "cell_type": "code",
      "execution_count": 24,
      "id": "7fd3b398-07f6-4d2f-8e53-667706374652",
      "metadata": {
        "id": "7fd3b398-07f6-4d2f-8e53-667706374652"
      },
      "outputs": [],
      "source": [
        "# STEP 3: Split the dataset into training and testing sets\n",
        "\n",
        "# This ensures we train the model on one portion of data and test on unseen data\n",
        "X_train_raw, X_test_raw, y_train, y_test = train_test_split(\n",
        "    X, y, test_size=0.25, random_state=42\n",
        ")\n",
        "\n",
        "#  test_size=0.25 means 25% of data goes to testing, 75% to training\n",
        "# random_state ensures reproducibility\n"
      ]
    },
    {
      "cell_type": "markdown",
      "id": "1e79e9d4-2f27-4d8d-8b30-33e533d21218",
      "metadata": {
        "id": "1e79e9d4-2f27-4d8d-8b30-33e533d21218"
      },
      "source": [
        "Cell 4: Apply Min-Max Normalization"
      ]
    },
    {
      "cell_type": "code",
      "execution_count": 25,
      "id": "996ac516-4119-4cd9-9275-f38e6f1b8e96",
      "metadata": {
        "id": "996ac516-4119-4cd9-9275-f38e6f1b8e96"
      },
      "outputs": [],
      "source": [
        "# STEP 4: Apply Min-Max Normalization\n",
        "\n",
        "# Min-Max Scaler scales all feature values between 0 and 1\n",
        "# Useful when you want to preserve shape and not assume Gaussian distribution\n",
        "\n",
        "mm = MinMaxScaler()\n",
        "\n",
        "# Fit the scaler on training data and transform both train and test\n",
        "X_train_mm = mm.fit_transform(X_train_raw)\n",
        "X_test_mm = mm.transform(X_test_raw)\n"
      ]
    },
    {
      "cell_type": "markdown",
      "id": "2cb3ff56-a7f1-4cb9-8afc-c9faaabe6ca3",
      "metadata": {
        "id": "2cb3ff56-a7f1-4cb9-8afc-c9faaabe6ca3"
      },
      "source": [
        "Cell 5: Apply Z-score Standardization"
      ]
    },
    {
      "cell_type": "code",
      "execution_count": 26,
      "id": "259c268c-0e66-407b-b416-c19655f8f7e9",
      "metadata": {
        "id": "259c268c-0e66-407b-b416-c19655f8f7e9"
      },
      "outputs": [],
      "source": [
        "# STEP 5: Apply Z-score Standardization\n",
        "\n",
        "# Z-score scaling (StandardScaler) transforms features to have:\n",
        "# - Mean = 0\n",
        "# - Standard Deviation = 1\n",
        "# Useful when features have different scales or units\n",
        "\n",
        "ss = StandardScaler()\n",
        "\n",
        "# Fit and transform the training set; transform the test set\n",
        "X_train_ss = ss.fit_transform(X_train_raw)\n",
        "X_test_ss = ss.transform(X_test_raw)\n"
      ]
    },
    {
      "cell_type": "markdown",
      "id": "699c3d39-3751-4cae-b15f-90000455a0d6",
      "metadata": {
        "id": "699c3d39-3751-4cae-b15f-90000455a0d6"
      },
      "source": [
        "Cell 6: Define KNN Evaluation Function"
      ]
    },
    {
      "cell_type": "code",
      "execution_count": 27,
      "id": "de9844f4-d6d5-4c65-aeaf-aa66a8c1a2b4",
      "metadata": {
        "id": "de9844f4-d6d5-4c65-aeaf-aa66a8c1a2b4"
      },
      "outputs": [],
      "source": [
        "# STEP 6: Define a function to train and evaluate KNN\n",
        "\n",
        "def eval_knn(X_train, X_test):\n",
        "    # Create KNN model with k=5\n",
        "    knn = KNeighborsClassifier(n_neighbors=5)\n",
        "\n",
        "    # Fit model on training data\n",
        "    knn.fit(X_train, y_train)\n",
        "\n",
        "    # Return model accuracy on test data\n",
        "    return knn.score(X_test, y_test)\n"
      ]
    },
    {
      "cell_type": "markdown",
      "id": "6ff7bc22-560a-4f42-b847-d4d79832da28",
      "metadata": {
        "id": "6ff7bc22-560a-4f42-b847-d4d79832da28"
      },
      "source": [
        "Cell 7: Compare Accuracies Across Raw vs Scaled Data"
      ]
    },
    {
      "cell_type": "code",
      "execution_count": 28,
      "id": "d842578b-8e7a-47bb-9407-5c5f15c472a6",
      "metadata": {
        "id": "d842578b-8e7a-47bb-9407-5c5f15c472a6",
        "outputId": "27a5c399-800a-43f6-eb70-0c61195f42f6",
        "colab": {
          "base_uri": "https://localhost:8080/"
        }
      },
      "outputs": [
        {
          "output_type": "stream",
          "name": "stdout",
          "text": [
            "Raw KNN accuracy: 0.4675\n",
            "Min-Max scaled accuracy: 0.55\n",
            "Z-score scaled accuracy: 0.5775\n"
          ]
        }
      ],
      "source": [
        "# STEP 7: Evaluate the KNN classifier using different versions of the data\n",
        "\n",
        "# KNN is a distance-based algorithm — scaling impacts performance significantly\n",
        "\n",
        "print(\"Raw KNN accuracy:\", eval_knn(X_train_raw, X_test_raw))     # Without scaling\n",
        "print(\"Min-Max scaled accuracy:\", eval_knn(X_train_mm, X_test_mm))  # With Min-Max scaling\n",
        "print(\"Z-score scaled accuracy:\", eval_knn(X_train_ss, X_test_ss))  # With Z-score scaling\n"
      ]
    },
    {
      "cell_type": "markdown",
      "id": "1cb58a68-5958-4709-bcbe-65279cd77709",
      "metadata": {
        "id": "1cb58a68-5958-4709-bcbe-65279cd77709"
      },
      "source": [
        "Cell 8: Visual Comparison of Accuracy (Bar Plot)"
      ]
    },
    {
      "cell_type": "code",
      "execution_count": 29,
      "id": "f3987963-5f41-4376-b550-362d25c5c655",
      "metadata": {
        "id": "f3987963-5f41-4376-b550-362d25c5c655",
        "outputId": "f348bc0c-71de-479c-b008-d8ecfb54b34c",
        "colab": {
          "base_uri": "https://localhost:8080/",
          "height": 391
        }
      },
      "outputs": [
        {
          "output_type": "display_data",
          "data": {
            "text/plain": [
              "<Figure size 600x400 with 1 Axes>"
            ],
            "image/png": "[encoded data removed]"
          },
          "metadata": {}
        }
      ],
      "source": [
        "# STEP 8: Visualize the impact of scaling on KNN accuracy\n",
        "\n",
        "import matplotlib.pyplot as plt\n",
        "\n",
        "# Create labels and accuracy list\n",
        "methods = ['Raw', 'Min-Max', 'Z-score']\n",
        "accuracies = [\n",
        "    eval_knn(X_train_raw, X_test_raw),\n",
        "    eval_knn(X_train_mm, X_test_mm),\n",
        "    eval_knn(X_train_ss, X_test_ss)\n",
        "]\n",
        "\n",
        "# Create bar chart\n",
        "plt.figure(figsize=(6, 4))\n",
        "plt.bar(methods, accuracies, color=['gray', 'skyblue', 'lightgreen'])\n",
        "plt.title(\"KNN Accuracy Comparison: Raw vs Scaled Data\")\n",
        "plt.ylabel(\"Accuracy\")\n",
        "plt.ylim(0.4, 0.8)\n",
        "plt.grid(axis='y')\n",
        "plt.show()\n",
        "\n",
        "#Since KNN is a distance-based algorithm, scaling has a huge impact on the final model performance.\n",
        "#We can see how unscaled features hurt accuracy, while both scaling techniques help, especially Z-score in this dataset.\""
      ]
    },
    {
      "cell_type": "markdown",
      "id": "e18fd8fc-a639-4f89-9b66-060e8e548681",
      "metadata": {
        "id": "e18fd8fc-a639-4f89-9b66-060e8e548681"
      },
      "source": [
        "Cell 9: Interpretation"
      ]
    },
    {
      "cell_type": "code",
      "execution_count": null,
      "id": "25a5b781-be51-4389-9faa-64d88ef377d9",
      "metadata": {
        "id": "25a5b781-be51-4389-9faa-64d88ef377d9"
      },
      "outputs": [],
      "source": [
        "# STEP 9: Key Takeaways\n",
        "\n",
        "# - Without scaling, KNN may perform poorly because features with large values dominate the distance calculation.\n",
        "# - Min-Max scaling compresses all features between 0–1, which helps equalize feature influence.\n",
        "# - Z-score standardization centers features and helps when data is normally distributed.\n",
        "\n",
        "# In practice, always apply scaling for KNN, SVM, and other distance-based algorithms.\n",
        "\n",
        "#Learning:\n",
        "\n",
        "#Why: Modeling without scaling can bias distance metrics toward large-scale features.\n",
        "\n",
        "#Impact: Expect improved accuracy with both scalers—especially Min-Max—for KNN."
      ]
    },
    {
      "cell_type": "markdown",
      "id": "8efe50a1-f8af-4560-ac0d-48a6ea82b9bd",
      "metadata": {
        "id": "8efe50a1-f8af-4560-ac0d-48a6ea82b9bd"
      },
      "source": []
    },
    {
      "cell_type": "markdown",
      "id": "993bff79-fb02-4783-9919-ee944522128e",
      "metadata": {
        "id": "993bff79-fb02-4783-9919-ee944522128e"
      },
      "source": []
    },
    {
      "cell_type": "markdown",
      "id": "33a88594-1876-4d12-9c9c-5e08fd4eeab4",
      "metadata": {
        "id": "33a88594-1876-4d12-9c9c-5e08fd4eeab4"
      },
      "source": [
        "Smoothing (Moving Average)\n",
        "Goal: Apply rolling mean to daily sales data."
      ]
    },
    {
      "cell_type": "code",
      "source": [
        "import pandas as pd\n",
        "import numpy as np\n",
        "import matplotlib.pyplot as plt\n",
        "\n",
        "# --------------------------\n",
        "# Step 1: Create Simulated Sales Data with Noise\n",
        "# --------------------------\n",
        "\n",
        "# Set seed for reproducibility\n",
        "np.random.seed(42)\n",
        "\n",
        "# Create a date range\n",
        "dates = pd.date_range(start='2021-01-01', periods=100)\n",
        "\n",
        "# Generate daily sales with trend + noise (more realistic simulation)\n",
        "# Cumulative sum adds trending behavior, noise simulates real-world daily fluctuation\n",
        "sales_values = np.cumsum(np.random.randn(100) * 50 + 200)\n",
        "\n",
        "# Create the simulated sales dataset\n",
        "sales = pd.DataFrame({'Date': dates, 'Sales': sales_values})\n",
        "\n",
        "# Show the first 5 rows of the dataset to students\n",
        "print(\"Preview of the Sales Dataset:\")\n",
        "print(sales.head())"
      ],
      "metadata": {
        "id": "GVsbH3Zb6WqK",
        "outputId": "56a4c1b1-85bd-4ff6-a15c-3d86ad003459",
        "colab": {
          "base_uri": "https://localhost:8080/"
        }
      },
      "id": "GVsbH3Zb6WqK",
      "execution_count": 34,
      "outputs": [
        {
          "output_type": "stream",
          "name": "stdout",
          "text": [
            "Preview of the Sales Dataset:\n",
            "        Date        Sales\n",
            "0 2021-01-01   224.835708\n",
            "1 2021-01-02   417.922493\n",
            "2 2021-01-03   650.306919\n",
            "3 2021-01-04   926.458412\n",
            "4 2021-01-05  1114.750744\n"
          ]
        }
      ]
    },
    {
      "cell_type": "code",
      "execution_count": 36,
      "id": "1747b61e-349a-47ea-b7c1-4fcb3fe79cd2",
      "metadata": {
        "id": "1747b61e-349a-47ea-b7c1-4fcb3fe79cd2",
        "outputId": "86aeec61-7dc7-471a-d3c1-dfb7fed054d1",
        "colab": {
          "base_uri": "https://localhost:8080/",
          "height": 507
        }
      },
      "outputs": [
        {
          "output_type": "display_data",
          "data": {
            "text/plain": [
              "<Figure size 1200x500 with 1 Axes>"
            ],
            "image/png": "[encoded data removed]"
          },
          "metadata": {}
        }
      ],
      "source": [
        "import pandas as pd\n",
        "import numpy as np\n",
        "import matplotlib.pyplot as plt\n",
        "\n",
        "# --------------------------\n",
        "# Step 1: Create Simulated Sales Data with Noise\n",
        "# --------------------------\n",
        "\n",
        "# Set seed for reproducibility\n",
        "np.random.seed(42)\n",
        "\n",
        "# Create a date range\n",
        "dates = pd.date_range(start='2021-01-01', periods=100)\n",
        "\n",
        "# Generate daily sales with trend + noise (more realistic simulation)\n",
        "# Cumulative sum adds trending behavior, noise simulates real-world daily fluctuation\n",
        "sales_values = np.cumsum(np.random.randn(100) * 50 + 200)\n",
        "\n",
        "# Create DataFrame\n",
        "sales = pd.DataFrame({'Date': dates, 'Sales': sales_values})\n",
        "\n",
        "# --------------------------\n",
        "# Step 2: Calculate 7-Day Moving Average\n",
        "# --------------------------\n",
        "\n",
        "# Rolling mean smooths the sales data over a 7-day window\n",
        "sales['Sales_7day_MA'] = sales['Sales'].rolling(window=7).mean()\n",
        "\n",
        "# --------------------------\n",
        "# Step 3: Plot the Results\n",
        "# --------------------------\n",
        "\n",
        "plt.figure(figsize=(12, 5))\n",
        "\n",
        "# Plot daily sales (raw, noisy data)\n",
        "plt.plot(sales['Date'], sales['Sales'], label='Daily Sales', color='skyblue', linestyle='--', alpha=0.6)\n",
        "\n",
        "# Plot 7-day moving average (smooth trend)\n",
        "plt.plot(sales['Date'], sales['Sales_7day_MA'], label='7-Day Moving Average', color='red', linewidth=2)\n",
        "\n",
        "plt.title(\"Sales Trend with 7-Day Moving Average\", fontsize=14)\n",
        "plt.xlabel(\"Date\")\n",
        "plt.ylabel(\"Sales\")\n",
        "plt.legend()\n",
        "plt.grid(True)\n",
        "plt.tight_layout()\n",
        "plt.show()\n",
        "\n",
        "# --------------------------\n",
        "# Notes:\n",
        "# --------------------------\n",
        "# Daily Sales (blue dashed): Shows real-time variation, includes short-term noise.\n",
        "# 7-Day Moving Average (red): Smooths the noise, highlights long-term trends.\n",
        "# Purpose: Helps in trend analysis, decision making, and forecasting.\n",
        "\n",
        "# Analogy:\n",
        "#     - Daily Sales = Daily temperature (fluctuates)\n",
        "#     - 7-Day MA = Weekly climate pattern (more stable)"
      ]
    },
    {
      "cell_type": "code",
      "source": [
        "# --------------------------\n",
        "# Step 4: Zoomed-In Visualization\n",
        "# --------------------------\n",
        "\n",
        "# Focus on a smaller time window (e.g., day 30 to day 50)\n",
        "# This allows closer inspection of how the Moving Average smooths out daily fluctuations\n",
        "import matplotlib.pyplot as plt\n",
        "import matplotlib.dates as mdates #Needed for formatting x-axis dates\n",
        "\n",
        "sales_zoom = sales.iloc[30:50]\n",
        "\n",
        "# Plotting\n",
        "plt.figure(figsize=(10, 4))\n",
        "plt.plot(sales_zoom['Date'], sales_zoom['Sales'], label='Daily Sales', linestyle='--', alpha=0.7)\n",
        "plt.plot(sales_zoom['Date'], sales_zoom['Sales_7day_MA'], label='7-Day MA', linewidth=2)\n",
        "plt.title(\"Zoomed View: 7-Day MA Smoothing Effect\")\n",
        "plt.xlabel(\"Date\")\n",
        "plt.ylabel(\"Sales\")\n",
        "# Format the x-axis for better readability\n",
        "plt.gca().xaxis.set_major_locator(mdates.DayLocator(interval=2))  # show every 2nd day\n",
        "plt.gca().xaxis.set_major_formatter(mdates.DateFormatter('%b %d'))  # e.g., Jan 31\n",
        "plt.xticks(rotation=45)  # tilt labels to avoid overlap\n",
        "\n",
        "plt.legend()\n",
        "plt.grid(True)\n",
        "plt.tight_layout()\n",
        "plt.show()\n",
        "\n",
        "# --------------------------\n",
        "#Notes: Why Zoomed-In View Matters\n",
        "# --------------------------\n",
        "\n",
        "# Purpose of Zooming:\n",
        "# - Makes it easier to visually compare how the moving average reacts to sharp daily ups and downs.\n",
        "# - In the full plot, subtle fluctuations are hard to notice. Here, they become clear.\n",
        "\n",
        "# - The **Daily Sales line** (dashed) shows high volatility — it reacts sharply to changes.\n",
        "# - The **7-Day Moving Average line** (solid) is smoother and lags slightly behind the daily values.\n",
        "#   This is expected because it is a backward-looking average over 7 days.\n",
        "\n",
        "# Key Learning:\n",
        "# - Moving averages act like \"shock absorbers\" in noisy data.\n",
        "# - Helps decision-makers **ignore short-term spikes** and focus on the **long-term trend**.\n",
        "# - Essential in fields like stock trading, sales forecasting, demand planning, etc.\n",
        "\n",
        "# Analogy:\n",
        "# - Daily sales = heartbeat monitor (fast changes)\n",
        "# - 7-Day MA = overall health trend (slow but stable)\n",
        "\n",
        "# Engineering Insight:\n",
        "# - Moving average is a **feature engineering technique** to reduce variance.\n",
        "# - Helps improve **model performance** by reducing overfitting on noisy data."
      ],
      "metadata": {
        "colab": {
          "base_uri": "https://localhost:8080/",
          "height": 407
        },
        "id": "SukA2S524qJr",
        "outputId": "f0baa344-b6fb-4a3d-f4e9-604313e0c447"
      },
      "id": "SukA2S524qJr",
      "execution_count": null,
      "outputs": [
        {
          "output_type": "display_data",
          "data": {
            "text/plain": [
              "<Figure size 1000x400 with 1 Axes>"
            ],
            "image/png": "[encoded data removed]"
          },
          "metadata": {}
        }
      ]
    },
    {
      "cell_type": "markdown",
      "id": "addaf2a7-6109-476c-8ef0-c393ca7289f9",
      "metadata": {
        "id": "addaf2a7-6109-476c-8ef0-c393ca7289f9"
      },
      "source": []
    },
    {
      "cell_type": "markdown",
      "id": "3a0274a3-4b1c-4fd2-a7f3-c69f4cb0f2a0",
      "metadata": {
        "id": "3a0274a3-4b1c-4fd2-a7f3-c69f4cb0f2a0"
      },
      "source": [
        "Attribute Transformations\n",
        "Goal: Use Log and Box-Cox / Yeo-Johnson to normalize skewed data."
      ]
    },
    {
      "cell_type": "code",
      "execution_count": 37,
      "id": "ae4ee004-9b22-468f-b4ac-9557a649252c",
      "metadata": {
        "id": "ae4ee004-9b22-468f-b4ac-9557a649252c",
        "outputId": "b1a9b825-a183-43e6-93b7-8d75db241238",
        "colab": {
          "base_uri": "https://localhost:8080/",
          "height": 391
        }
      },
      "outputs": [
        {
          "output_type": "display_data",
          "data": {
            "text/plain": [
              "<Figure size 1500x400 with 3 Axes>"
            ],
            "image/png": "[encoded data removed]"
          },
          "metadata": {}
        }
      ],
      "source": [
        "from sklearn.preprocessing import PowerTransformer\n",
        "\n",
        "# Log transform of right-skewed 'free sulfur dioxide'\n",
        "X['log_freesulfur'] = np.log1p(X['free sulfur dioxide'])\n",
        "\n",
        "# Box-Cox requires positive values\n",
        "pt = PowerTransformer(method='yeo-johnson')\n",
        "X['yb_freesulfur'] = pt.fit_transform(X[['free sulfur dioxide']])\n",
        "\n",
        "# Compare distributions\n",
        "fig, axes = plt.subplots(1, 3, figsize=(15, 4))\n",
        "axes[0].hist(X['free sulfur dioxide'], bins=30); axes[0].set_title('Original')\n",
        "axes[1].hist(X['log_freesulfur'], bins=30); axes[1].set_title('Log Transform')\n",
        "axes[2].hist(X['yb_freesulfur'], bins=30); axes[2].set_title('Yeo-Johnson')\n",
        "plt.show()\n",
        "\n",
        "#Learning:\n",
        "#Why: Stabilizes variance and normalizes skewed distributions.\n",
        "#Impact: Enables algorithms that assume normality (e.g., linear models, PCA) to perform better."
      ]
    },
    {
      "cell_type": "markdown",
      "id": "5f276b80-6896-4814-a3ae-3daafc6e177b",
      "metadata": {
        "id": "5f276b80-6896-4814-a3ae-3daafc6e177b"
      },
      "source": []
    },
    {
      "cell_type": "markdown",
      "id": "be4a9f1e-6484-41c9-8de2-fd6a590cd88a",
      "metadata": {
        "id": "be4a9f1e-6484-41c9-8de2-fd6a590cd88a"
      },
      "source": []
    },
    {
      "cell_type": "markdown",
      "id": "880639ed-6868-424c-ab25-d5b48592d5ed",
      "metadata": {
        "id": "880639ed-6868-424c-ab25-d5b48592d5ed"
      },
      "source": [
        "Feature Scaling Goal: All features contribute equally by adjusting their ranges or distributions"
      ]
    },
    {
      "cell_type": "code",
      "source": [],
      "metadata": {
        "id": "_P5pMjnJGB8q"
      },
      "id": "_P5pMjnJGB8q",
      "execution_count": null,
      "outputs": []
    },
    {
      "cell_type": "markdown",
      "id": "bbe31157-6a82-4ea7-9279-c2cd40af6b3c",
      "metadata": {
        "id": "bbe31157-6a82-4ea7-9279-c2cd40af6b3c"
      },
      "source": [
        "Cell 1: Load Breast Cancer Dataset"
      ]
    },
    {
      "cell_type": "code",
      "execution_count": 38,
      "id": "43843510-95c9-4d0f-8a18-8cf2b1118a85",
      "metadata": {
        "id": "43843510-95c9-4d0f-8a18-8cf2b1118a85",
        "outputId": "f6fb2e8e-ac34-4d26-e818-48989da1bcbd",
        "colab": {
          "base_uri": "https://localhost:8080/"
        }
      },
      "outputs": [
        {
          "output_type": "stream",
          "name": "stdout",
          "text": [
            "Feature sample (before scaling):\n",
            "   mean radius  mean texture  mean perimeter  mean area  mean smoothness  \\\n",
            "0        17.99         10.38          122.80     1001.0          0.11840   \n",
            "1        20.57         17.77          132.90     1326.0          0.08474   \n",
            "2        19.69         21.25          130.00     1203.0          0.10960   \n",
            "3        11.42         20.38           77.58      386.1          0.14250   \n",
            "4        20.29         14.34          135.10     1297.0          0.10030   \n",
            "\n",
            "   mean compactness  mean concavity  mean concave points  mean symmetry  \\\n",
            "0           0.27760          0.3001              0.14710         0.2419   \n",
            "1           0.07864          0.0869              0.07017         0.1812   \n",
            "2           0.15990          0.1974              0.12790         0.2069   \n",
            "3           0.28390          0.2414              0.10520         0.2597   \n",
            "4           0.13280          0.1980              0.10430         0.1809   \n",
            "\n",
            "   mean fractal dimension  ...  worst radius  worst texture  worst perimeter  \\\n",
            "0                 0.07871  ...         25.38          17.33           184.60   \n",
            "1                 0.05667  ...         24.99          23.41           158.80   \n",
            "2                 0.05999  ...         23.57          25.53           152.50   \n",
            "3                 0.09744  ...         14.91          26.50            98.87   \n",
            "4                 0.05883  ...         22.54          16.67           152.20   \n",
            "\n",
            "   worst area  worst smoothness  worst compactness  worst concavity  \\\n",
            "0      2019.0            0.1622             0.6656           0.7119   \n",
            "1      1956.0            0.1238             0.1866           0.2416   \n",
            "2      1709.0            0.1444             0.4245           0.4504   \n",
            "3       567.7            0.2098             0.8663           0.6869   \n",
            "4      1575.0            0.1374             0.2050           0.4000   \n",
            "\n",
            "   worst concave points  worst symmetry  worst fractal dimension  \n",
            "0                0.2654          0.4601                  0.11890  \n",
            "1                0.1860          0.2750                  0.08902  \n",
            "2                0.2430          0.3613                  0.08758  \n",
            "3                0.2575          0.6638                  0.17300  \n",
            "4                0.1625          0.2364                  0.07678  \n",
            "\n",
            "[5 rows x 30 columns]\n"
          ]
        }
      ],
      "source": [
        "# STEP 1: Load dataset and inspect original features\n",
        "\n",
        "from sklearn.datasets import load_breast_cancer\n",
        "import pandas as pd\n",
        "import seaborn as sns\n",
        "import matplotlib.pyplot as plt\n",
        "\n",
        "# Load the built-in dataset from sklearn\n",
        "data_bc = load_breast_cancer()\n",
        "\n",
        "# Create DataFrame with column names\n",
        "df_bc = pd.DataFrame(data_bc.data, columns=data_bc.feature_names)\n",
        "\n",
        "# Show a few records to understand raw data\n",
        "print(\"Feature sample (before scaling):\")\n",
        "print(df_bc.head())\n"
      ]
    },
    {
      "cell_type": "markdown",
      "id": "4f30bec5-8148-4298-b799-772cc8864778",
      "metadata": {
        "id": "4f30bec5-8148-4298-b799-772cc8864778"
      },
      "source": [
        "Cell 2: Apply Min-Max & Z-Score Scaling"
      ]
    },
    {
      "cell_type": "code",
      "execution_count": 39,
      "id": "7eb686bf-8c2d-407a-92a5-c4f1f40fb819",
      "metadata": {
        "id": "7eb686bf-8c2d-407a-92a5-c4f1f40fb819",
        "outputId": "be66bfa7-27a5-44d8-9e63-b5d5ae8a1de5",
        "colab": {
          "base_uri": "https://localhost:8080/"
        }
      },
      "outputs": [
        {
          "output_type": "stream",
          "name": "stdout",
          "text": [
            "Before Scaling (1st record):\n",
            "mean radius                  17.990000\n",
            "mean texture                 10.380000\n",
            "mean perimeter              122.800000\n",
            "mean area                  1001.000000\n",
            "mean smoothness               0.118400\n",
            "mean compactness              0.277600\n",
            "mean concavity                0.300100\n",
            "mean concave points           0.147100\n",
            "mean symmetry                 0.241900\n",
            "mean fractal dimension        0.078710\n",
            "radius error                  1.095000\n",
            "texture error                 0.905300\n",
            "perimeter error               8.589000\n",
            "area error                  153.400000\n",
            "smoothness error              0.006399\n",
            "compactness error             0.049040\n",
            "concavity error               0.053730\n",
            "concave points error          0.015870\n",
            "symmetry error                0.030030\n",
            "fractal dimension error       0.006193\n",
            "worst radius                 25.380000\n",
            "worst texture                17.330000\n",
            "worst perimeter             184.600000\n",
            "worst area                 2019.000000\n",
            "worst smoothness              0.162200\n",
            "worst compactness             0.665600\n",
            "worst concavity               0.711900\n",
            "worst concave points          0.265400\n",
            "worst symmetry                0.460100\n",
            "worst fractal dimension       0.118900\n",
            "Name: 0, dtype: float64\n",
            "\n",
            " After Min-Max Scaling:\n",
            "mean radius                0.521037\n",
            "mean texture               0.022658\n",
            "mean perimeter             0.545989\n",
            "mean area                  0.363733\n",
            "mean smoothness            0.593753\n",
            "mean compactness           0.792037\n",
            "mean concavity             0.703140\n",
            "mean concave points        0.731113\n",
            "mean symmetry              0.686364\n",
            "mean fractal dimension     0.605518\n",
            "radius error               0.356147\n",
            "texture error              0.120469\n",
            "perimeter error            0.369034\n",
            "area error                 0.273811\n",
            "smoothness error           0.159296\n",
            "compactness error          0.351398\n",
            "concavity error            0.135682\n",
            "concave points error       0.300625\n",
            "symmetry error             0.311645\n",
            "fractal dimension error    0.183042\n",
            "worst radius               0.620776\n",
            "worst texture              0.141525\n",
            "worst perimeter            0.668310\n",
            "worst area                 0.450698\n",
            "worst smoothness           0.601136\n",
            "worst compactness          0.619292\n",
            "worst concavity            0.568610\n",
            "worst concave points       0.912027\n",
            "worst symmetry             0.598462\n",
            "worst fractal dimension    0.418864\n",
            "Name: 0, dtype: float64\n",
            "\n",
            " After Z-score Scaling:\n",
            "mean radius                1.097064\n",
            "mean texture              -2.073335\n",
            "mean perimeter             1.269934\n",
            "mean area                  0.984375\n",
            "mean smoothness            1.568466\n",
            "mean compactness           3.283515\n",
            "mean concavity             2.652874\n",
            "mean concave points        2.532475\n",
            "mean symmetry              2.217515\n",
            "mean fractal dimension     2.255747\n",
            "radius error               2.489734\n",
            "texture error             -0.565265\n",
            "perimeter error            2.833031\n",
            "area error                 2.487578\n",
            "smoothness error          -0.214002\n",
            "compactness error          1.316862\n",
            "concavity error            0.724026\n",
            "concave points error       0.660820\n",
            "symmetry error             1.148757\n",
            "fractal dimension error    0.907083\n",
            "worst radius               1.886690\n",
            "worst texture             -1.359293\n",
            "worst perimeter            2.303601\n",
            "worst area                 2.001237\n",
            "worst smoothness           1.307686\n",
            "worst compactness          2.616665\n",
            "worst concavity            2.109526\n",
            "worst concave points       2.296076\n",
            "worst symmetry             2.750622\n",
            "worst fractal dimension    1.937015\n",
            "Name: 0, dtype: float64\n"
          ]
        }
      ],
      "source": [
        "# 🔹 STEP 2: Apply Min-Max Scaling and Z-Score Standardization\n",
        "\n",
        "from sklearn.preprocessing import MinMaxScaler, StandardScaler\n",
        "\n",
        "# Initialize scalers\n",
        "scaler_minmax = MinMaxScaler()\n",
        "scaler_zscore = StandardScaler()\n",
        "\n",
        "# Fit and transform the dataset\n",
        "df_minmax = pd.DataFrame(scaler_minmax.fit_transform(df_bc), columns=data_bc.feature_names)\n",
        "df_zscore = pd.DataFrame(scaler_zscore.fit_transform(df_bc), columns=data_bc.feature_names)\n",
        "\n",
        "# Compare one sample before and after scaling\n",
        "print(\"Before Scaling (1st record):\")\n",
        "print(df_bc.iloc[0])\n",
        "\n",
        "print(\"\\n After Min-Max Scaling:\")\n",
        "print(df_minmax.iloc[0])\n",
        "\n",
        "print(\"\\n After Z-score Scaling:\")\n",
        "print(df_zscore.iloc[0])"
      ]
    },
    {
      "cell_type": "markdown",
      "id": "9e1563bd-db96-454f-849b-bb1aad6c4f9f",
      "metadata": {
        "id": "9e1563bd-db96-454f-849b-bb1aad6c4f9f"
      },
      "source": [
        "Cell 3: Visualize the Scaling Effect"
      ]
    },
    {
      "cell_type": "code",
      "execution_count": 40,
      "id": "4cdb2274-3a7e-4681-9d41-159911007efb",
      "metadata": {
        "id": "4cdb2274-3a7e-4681-9d41-159911007efb",
        "outputId": "313fa8a1-0195-4249-f144-425cd8fbc45f",
        "colab": {
          "base_uri": "https://localhost:8080/",
          "height": 472
        }
      },
      "outputs": [
        {
          "output_type": "display_data",
          "data": {
            "text/plain": [
              "<Figure size 640x480 with 1 Axes>"
            ],
            "image/png": "[encoded data removed]"
          },
          "metadata": {}
        }
      ],
      "source": [
        "# STEP 3: Visualize the effect of scaling on one feature (mean radius)\n",
        "import warnings                        # To suppress warnings (for cleaner output)\n",
        "\n",
        "# FutureWarning is a harmless warning from Seaborn. Let's suppress it.\n",
        "warnings.simplefilter(action='ignore', category=FutureWarning)\n",
        "\n",
        "sns.kdeplot(df_bc['mean radius'], label='Original', linewidth=2)\n",
        "sns.kdeplot(df_minmax['mean radius'], label='Min-Max', linewidth=2)\n",
        "sns.kdeplot(df_zscore['mean radius'], label='Z-score', linewidth=2)\n",
        "plt.title(\"Feature Scaling Comparison: mean radius\")\n",
        "plt.xlabel(\"Value\")\n",
        "plt.ylabel(\"Density\")\n",
        "plt.legend()\n",
        "plt.grid(True)\n",
        "plt.show()\n",
        "\n",
        "#This plot shows how one feature, mean radius, is transformed by each method. We can see that:\n",
        "#Min-Max squashes it between 0 and 1.\n",
        "#Z-score centers the data around 0.\n",
        "#The shape stays the same, but the scale changes.\""
      ]
    },
    {
      "cell_type": "markdown",
      "id": "2179e521-3dce-441a-8573-e47f1caac591",
      "metadata": {
        "id": "2179e521-3dce-441a-8573-e47f1caac591"
      },
      "source": [
        "Cell 4: Show Impact on Euclidean Distance"
      ]
    },
    {
      "cell_type": "code",
      "execution_count": 41,
      "id": "57e0c2b1-63e6-4384-8b6b-a566a85b0086",
      "metadata": {
        "id": "57e0c2b1-63e6-4384-8b6b-a566a85b0086",
        "outputId": "4715cc75-40d4-4c8c-bc1e-f1410e2db86a",
        "colab": {
          "base_uri": "https://localhost:8080/"
        }
      },
      "outputs": [
        {
          "output_type": "stream",
          "name": "stdout",
          "text": [
            "Euclidean Distance (Original): 341.7302620944424\n",
            "Euclidean Distance (Min-Max): 1.4998292601165726\n",
            "Euclidean Distance (Z-score): 10.318497148935617\n"
          ]
        }
      ],
      "source": [
        "# STEP 4: See how distance between samples is affected by scaling\n",
        "\n",
        "from scipy.spatial.distance import euclidean\n",
        "\n",
        "# Select two samples from the original data\n",
        "x1_raw = df_bc.iloc[0]\n",
        "x2_raw = df_bc.iloc[1]\n",
        "\n",
        "# Corresponding scaled values\n",
        "x1_minmax = df_minmax.iloc[0]\n",
        "x2_minmax = df_minmax.iloc[1]\n",
        "\n",
        "x1_zscore = df_zscore.iloc[0]\n",
        "x2_zscore = df_zscore.iloc[1]\n",
        "\n",
        "# Calculate Euclidean distances\n",
        "print(\"Euclidean Distance (Original):\", euclidean(x1_raw, x2_raw))\n",
        "print(\"Euclidean Distance (Min-Max):\", euclidean(x1_minmax, x2_minmax))\n",
        "print(\"Euclidean Distance (Z-score):\", euclidean(x1_zscore, x2_zscore))\n",
        "#The raw distance is much higher than the scaled distances.\n",
        "#Algorithms like KNN or KMeans rely heavily on distance, so unscaled data can cause features with large ranges to dominate the result."
      ]
    },
    {
      "cell_type": "markdown",
      "id": "7d9124f9-53c5-4d94-a21d-72263accede4",
      "metadata": {
        "id": "7d9124f9-53c5-4d94-a21d-72263accede4"
      },
      "source": []
    },
    {
      "cell_type": "markdown",
      "id": "93ecee43-d01a-4912-ba4e-951851af6ceb",
      "metadata": {
        "id": "93ecee43-d01a-4912-ba4e-951851af6ceb"
      },
      "source": []
    },
    {
      "cell_type": "markdown",
      "id": "844e7a1c-7cc9-4c3f-8abc-ce17e3dc4c3a",
      "metadata": {
        "id": "844e7a1c-7cc9-4c3f-8abc-ce17e3dc4c3a"
      },
      "source": [
        "#Impact on Proximity Metrics\n",
        "Goal: Observe distance changes before vs after scaling."
      ]
    },
    {
      "cell_type": "markdown",
      "source": [
        "#Wine Quality data set(worked on  earlier)"
      ],
      "metadata": {
        "id": "dqrH009EIFUL"
      },
      "id": "dqrH009EIFUL"
    },
    {
      "cell_type": "code",
      "execution_count": 42,
      "id": "53fd6f8c-25d9-4057-873a-668a99f1d72a",
      "metadata": {
        "id": "53fd6f8c-25d9-4057-873a-668a99f1d72a",
        "outputId": "9074f5c9-6fc7-4b21-82b9-1a49113b3ce5",
        "colab": {
          "base_uri": "https://localhost:8080/"
        }
      },
      "outputs": [
        {
          "output_type": "stream",
          "name": "stdout",
          "text": [
            "Euclidean distances:\n",
            " Raw: 2.92\n",
            " Min-Max: 0.37\n",
            " Z-score: 2.48\n"
          ]
        }
      ],
      "source": [
        "from scipy.spatial.distance import euclidean\n",
        "\n",
        "# Compute distance before/after scaling for two samples\n",
        "dist_raw = euclidean(X_train_raw.iloc[0], X_train_raw.iloc[1])\n",
        "dist_mm = euclidean(X_train_mm[0], X_train_mm[1])\n",
        "dist_ss = euclidean(X_train_ss[0], X_train_ss[1])\n",
        "\n",
        "print(f\"Euclidean distances:\\n Raw: {dist_raw:.2f}\\n Min-Max: {dist_mm:.2f}\\n Z-score: {dist_ss:.2f}\")\n",
        "\n",
        "#Learning:\n",
        "#Why: Distance measures are key in clustering/KNN; scaling ensures no single feature dominates.\n",
        "#Impact: Ensures fair and accurate similarity assessment among points."
      ]
    },
    {
      "cell_type": "markdown",
      "id": "8455681c-63f5-4266-9388-5e17ba1edf27",
      "metadata": {
        "id": "8455681c-63f5-4266-9388-5e17ba1edf27"
      },
      "source": []
    },
    {
      "cell_type": "markdown",
      "id": "08ffb84f-db6b-4695-8fd3-8843616abb9d",
      "metadata": {
        "id": "08ffb84f-db6b-4695-8fd3-8843616abb9d"
      },
      "source": []
    },
    {
      "cell_type": "markdown",
      "id": "d4afb3e8-9b3c-411b-961a-939a9020197f",
      "metadata": {
        "jp-MarkdownHeadingCollapsed": true,
        "id": "d4afb3e8-9b3c-411b-961a-939a9020197f"
      },
      "source": [
        "Summary of Learning Outcomes:-\n",
        "# Discretization simplifies data, improves interpretability, and adds categorical features.\n",
        "# Binarization adds logical flags for key thresholds.\n",
        "# Normalization & Standardization align feature scales to improve model performance, especially in KNN/KMeans.\n",
        "# Smoothing extracts meaningful trends from noisy data.\n",
        "# Attribute transformations handle skewed data, enabling better model assumptions and performance.\n",
        "# Proximity metrics demonstrate why scaling matters in similarity-based algorithms."
      ]
    }
  ],
  "metadata": {
    "kernelspec": {
      "display_name": "Python 3 (ipykernel)",
      "language": "python",
      "name": "python3"
    },
    "language_info": {
      "codemirror_mode": {
        "name": "ipython",
        "version": 3
      },
      "file_extension": ".py",
      "mimetype": "text/x-python",
      "name": "python",
      "nbconvert_exporter": "python",
      "pygments_lexer": "ipython3",
      "version": "3.11.7"
    },
    "colab": {
      "provenance": [],
      "include_colab_link": true
    }
  },
  "nbformat": 4,
  "nbformat_minor": 5
}